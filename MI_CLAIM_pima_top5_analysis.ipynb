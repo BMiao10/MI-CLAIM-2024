{
  "nbformat": 4,
  "nbformat_minor": 0,
  "metadata": {
    "colab": {
      "name": "MI-CLAIM-pima-top5-analysis.ipynb",
      "provenance": [],
      "collapsed_sections": []
    },
    "kernelspec": {
      "name": "python3",
      "display_name": "Python 3"
    }
  },
  "cells": [
    {
      "cell_type": "code",
      "metadata": {
        "id": "PrQTEbfKDjiO"
      },
      "source": [
        "import pandas as pd\n",
        "import numpy as np\n",
        "from scipy import stats\n",
        "from matplotlib import pyplot as plt"
      ],
      "execution_count": null,
      "outputs": []
    },
    {
      "cell_type": "markdown",
      "metadata": {
        "id": "kR2CUzOtKbM4"
      },
      "source": [
        "# Get and Load the Pima Indians Diabetes dataset\n",
        "\n",
        "We download the data from an nrvis repository. And we load it into a pandas dataframe."
      ]
    },
    {
      "cell_type": "code",
      "metadata": {
        "colab": {
          "base_uri": "https://localhost:8080/"
        },
        "id": "ZLYjaEbPDroj",
        "outputId": "538c4c28-e0f6-48f0-d62a-5f6944100a34"
      },
      "source": [
        "!wget http://nrvis.com/data/mldata/pima-indians-diabetes.csv"
      ],
      "execution_count": null,
      "outputs": [
        {
          "output_type": "stream",
          "text": [
            "--2021-01-06 00:02:40--  http://nrvis.com/data/mldata/pima-indians-diabetes.csv\n",
            "Resolving nrvis.com (nrvis.com)... 173.236.176.48\n",
            "Connecting to nrvis.com (nrvis.com)|173.236.176.48|:80... connected.\n",
            "HTTP request sent, awaiting response... 200 OK\n",
            "Length: 23279 (23K) [text/csv]\n",
            "Saving to: ‘pima-indians-diabetes.csv.3’\n",
            "\n",
            "pima-indians-diabet 100%[===================>]  22.73K   121KB/s    in 0.2s    \n",
            "\n",
            "2021-01-06 00:02:40 (121 KB/s) - ‘pima-indians-diabetes.csv.3’ saved [23279/23279]\n",
            "\n"
          ],
          "name": "stdout"
        }
      ]
    },
    {
      "cell_type": "code",
      "metadata": {
        "id": "8T1CyYBuD7qy"
      },
      "source": [
        "df = pd.read_csv('pima-indians-diabetes.csv',header=None)\n",
        "# 0. Number of times pregnant\n",
        "# 1. Plasma glucose concentration a 2 hours in an oral glucose tolerance test\n",
        "# 2. Diastolic blood pressure (mm Hg)\n",
        "# 3. Triceps skin fold thickness (mm)\n",
        "# 4. 2-Hour serum insulin (mu U/ml)\n",
        "# 5. Body mass index (weight in kg/(height in m)^2)\n",
        "# 6. Diabetes pedigree function\n",
        "# 7. Age (years)\n",
        "# 8. Class variable (0 or 1)\n",
        "df.columns = [\"NumTimesPrg\", \"PlGlcConc\", \"BloodP\", \"SkinThick\", \"TwoHourSerIns\", \"BMI\", \"DiPedFunc\", \"Age\", \"HasDiabetes\"]"
      ],
      "execution_count": null,
      "outputs": []
    },
    {
      "cell_type": "markdown",
      "metadata": {
        "id": "8zjdhjSPKiuI"
      },
      "source": [
        "# Split data into Train and Test Sets\n",
        "\n",
        "We set aside 20% of the data for analysis after our predictive model is trained."
      ]
    },
    {
      "cell_type": "code",
      "metadata": {
        "id": "4EWEYMeRGkRe"
      },
      "source": [
        "from sklearn.model_selection import train_test_split\n",
        "df_train, df_test = train_test_split(df,test_size=0.2, random_state=0)"
      ],
      "execution_count": null,
      "outputs": []
    },
    {
      "cell_type": "markdown",
      "metadata": {
        "id": "QjsY1bJrKnSj"
      },
      "source": [
        "# Train a Logistic Regression model on the training set\n",
        "\n",
        "We use the statmodels Logit model, and print its coefficients."
      ]
    },
    {
      "cell_type": "code",
      "metadata": {
        "colab": {
          "base_uri": "https://localhost:8080/"
        },
        "id": "2bFqQ5SnEkUD",
        "outputId": "aef840e4-d55b-44ee-e836-086b4eebbc2a"
      },
      "source": [
        "import statsmodels.api as sm\n",
        "\n",
        "X = df_train.iloc[:,range(8)]\n",
        "Y = df_train.iloc[:,8]\n",
        "\n",
        "X = sm.add_constant(X)\n",
        "\n",
        "model = sm.Logit(Y, X).fit()"
      ],
      "execution_count": null,
      "outputs": [
        {
          "output_type": "stream",
          "text": [
            "Optimization terminated successfully.\n",
            "         Current function value: 0.483040\n",
            "         Iterations 6\n"
          ],
          "name": "stdout"
        },
        {
          "output_type": "stream",
          "text": [
            "/usr/local/lib/python3.6/dist-packages/statsmodels/tools/_testing.py:19: FutureWarning: pandas.util.testing is deprecated. Use the functions in the public API at pandas.testing instead.\n",
            "  import pandas.util.testing as tm\n"
          ],
          "name": "stderr"
        }
      ]
    },
    {
      "cell_type": "code",
      "metadata": {
        "colab": {
          "base_uri": "https://localhost:8080/"
        },
        "id": "RMeQlfH8ElDI",
        "outputId": "6e849a30-037e-4c9b-bb5c-f5e12bf88081"
      },
      "source": [
        "print(model.summary())"
      ],
      "execution_count": null,
      "outputs": [
        {
          "output_type": "stream",
          "text": [
            "                           Logit Regression Results                           \n",
            "==============================================================================\n",
            "Dep. Variable:            HasDiabetes   No. Observations:                  614\n",
            "Model:                          Logit   Df Residuals:                      605\n",
            "Method:                           MLE   Df Model:                            8\n",
            "Date:                Wed, 06 Jan 2021   Pseudo R-squ.:                  0.2607\n",
            "Time:                        00:02:41   Log-Likelihood:                -296.59\n",
            "converged:                       True   LL-Null:                       -401.18\n",
            "Covariance Type:            nonrobust   LLR p-value:                 7.418e-41\n",
            "=================================================================================\n",
            "                    coef    std err          z      P>|z|      [0.025      0.975]\n",
            "---------------------------------------------------------------------------------\n",
            "const            -8.1937      0.780    -10.507      0.000      -9.722      -6.665\n",
            "NumTimesPrg       0.0914      0.034      2.664      0.008       0.024       0.159\n",
            "PlGlcConc         0.0339      0.004      8.224      0.000       0.026       0.042\n",
            "BloodP           -0.0137      0.006     -2.369      0.018      -0.025      -0.002\n",
            "SkinThick         0.0044      0.008      0.569      0.569      -0.011       0.020\n",
            "TwoHourSerIns    -0.0014      0.001     -1.443      0.149      -0.003       0.001\n",
            "BMI               0.0880      0.017      5.313      0.000       0.056       0.120\n",
            "DiPedFunc         0.8960      0.332      2.700      0.007       0.246       1.547\n",
            "Age               0.0199      0.010      1.931      0.054      -0.000       0.040\n",
            "=================================================================================\n"
          ],
          "name": "stdout"
        }
      ]
    },
    {
      "cell_type": "markdown",
      "metadata": {
        "id": "ynYFqMTtMq5e"
      },
      "source": [
        "From these coefficients (coef column), we expect that higher values of NumTimesPrg, PlGlcConc, BMI, and DiPedFunc, will all cause our predicted probabilities of diabetes to be higher, while for the other variables (BloodP, and TwoHourSerIns), lower values will cause our probabilities of diabetes to be higher.  For variables where coef is very nearly 0 and the `P>|z|` is much greater than 0.05, we expect there to be little effect on the outcome"
      ]
    },
    {
      "cell_type": "markdown",
      "metadata": {
        "id": "mMSE2oPkKsRK"
      },
      "source": [
        "# Generate predictions on the test dataset\n",
        "\n",
        "We use our model to generate prediction probabilites (range 0-1) on our test dataset.  The higher the prediction probability, the more confident our model is that the individual would have diabetes."
      ]
    },
    {
      "cell_type": "code",
      "metadata": {
        "id": "cvb1p7qHGWqH"
      },
      "source": [
        "y_pred = model.predict(sm.add_constant(df_test.iloc[:,range(8)]))\n",
        "y_pred.name='prediction'\n",
        "res = pd.concat([df_test, y_pred],axis=1)"
      ],
      "execution_count": null,
      "outputs": []
    },
    {
      "cell_type": "markdown",
      "metadata": {
        "id": "P2mqT1TTKwj8"
      },
      "source": [
        "# Sensitivity Analysis 1: Features of most confident incorrect predictions\n",
        "\n",
        "In this sensitivity analysis, we aim to see what features led to the algorithm making mistakes in classification even though it was very confident.\n",
        "\n",
        "We start with samples where the prediction was confident that they had diabetes, but they did not actually have diabetes."
      ]
    },
    {
      "cell_type": "code",
      "metadata": {
        "colab": {
          "base_uri": "https://localhost:8080/",
          "height": 204
        },
        "id": "avLbhPTQHLsR",
        "outputId": "5186ea74-bd51-4a46-d6e0-405c87e92bca"
      },
      "source": [
        "res.loc[res['HasDiabetes']==0].sort_values('prediction',ascending=False).head(5)"
      ],
      "execution_count": null,
      "outputs": [
        {
          "output_type": "execute_result",
          "data": {
            "text/html": [
              "<div>\n",
              "<style scoped>\n",
              "    .dataframe tbody tr th:only-of-type {\n",
              "        vertical-align: middle;\n",
              "    }\n",
              "\n",
              "    .dataframe tbody tr th {\n",
              "        vertical-align: top;\n",
              "    }\n",
              "\n",
              "    .dataframe thead th {\n",
              "        text-align: right;\n",
              "    }\n",
              "</style>\n",
              "<table border=\"1\" class=\"dataframe\">\n",
              "  <thead>\n",
              "    <tr style=\"text-align: right;\">\n",
              "      <th></th>\n",
              "      <th>NumTimesPrg</th>\n",
              "      <th>PlGlcConc</th>\n",
              "      <th>BloodP</th>\n",
              "      <th>SkinThick</th>\n",
              "      <th>TwoHourSerIns</th>\n",
              "      <th>BMI</th>\n",
              "      <th>DiPedFunc</th>\n",
              "      <th>Age</th>\n",
              "      <th>HasDiabetes</th>\n",
              "      <th>prediction</th>\n",
              "    </tr>\n",
              "  </thead>\n",
              "  <tbody>\n",
              "    <tr>\n",
              "      <th>622</th>\n",
              "      <td>6</td>\n",
              "      <td>183</td>\n",
              "      <td>94</td>\n",
              "      <td>0</td>\n",
              "      <td>0</td>\n",
              "      <td>40.8</td>\n",
              "      <td>1.461</td>\n",
              "      <td>45</td>\n",
              "      <td>0</td>\n",
              "      <td>0.955608</td>\n",
              "    </tr>\n",
              "    <tr>\n",
              "      <th>744</th>\n",
              "      <td>13</td>\n",
              "      <td>153</td>\n",
              "      <td>88</td>\n",
              "      <td>37</td>\n",
              "      <td>140</td>\n",
              "      <td>40.6</td>\n",
              "      <td>1.174</td>\n",
              "      <td>39</td>\n",
              "      <td>0</td>\n",
              "      <td>0.912510</td>\n",
              "    </tr>\n",
              "    <tr>\n",
              "      <th>40</th>\n",
              "      <td>3</td>\n",
              "      <td>180</td>\n",
              "      <td>64</td>\n",
              "      <td>25</td>\n",
              "      <td>70</td>\n",
              "      <td>34.0</td>\n",
              "      <td>0.271</td>\n",
              "      <td>26</td>\n",
              "      <td>0</td>\n",
              "      <td>0.745294</td>\n",
              "    </tr>\n",
              "    <tr>\n",
              "      <th>258</th>\n",
              "      <td>1</td>\n",
              "      <td>193</td>\n",
              "      <td>50</td>\n",
              "      <td>16</td>\n",
              "      <td>375</td>\n",
              "      <td>25.9</td>\n",
              "      <td>0.655</td>\n",
              "      <td>24</td>\n",
              "      <td>0</td>\n",
              "      <td>0.655646</td>\n",
              "    </tr>\n",
              "    <tr>\n",
              "      <th>267</th>\n",
              "      <td>2</td>\n",
              "      <td>128</td>\n",
              "      <td>64</td>\n",
              "      <td>42</td>\n",
              "      <td>0</td>\n",
              "      <td>40.0</td>\n",
              "      <td>1.101</td>\n",
              "      <td>24</td>\n",
              "      <td>0</td>\n",
              "      <td>0.650987</td>\n",
              "    </tr>\n",
              "  </tbody>\n",
              "</table>\n",
              "</div>"
            ],
            "text/plain": [
              "     NumTimesPrg  PlGlcConc  BloodP  ...  Age  HasDiabetes  prediction\n",
              "622            6        183      94  ...   45            0    0.955608\n",
              "744           13        153      88  ...   39            0    0.912510\n",
              "40             3        180      64  ...   26            0    0.745294\n",
              "258            1        193      50  ...   24            0    0.655646\n",
              "267            2        128      64  ...   24            0    0.650987\n",
              "\n",
              "[5 rows x 10 columns]"
            ]
          },
          "metadata": {
            "tags": []
          },
          "execution_count": 8
        }
      ]
    },
    {
      "cell_type": "markdown",
      "metadata": {
        "id": "3chRuMwe9W1u"
      },
      "source": [
        "It's hard to see directly from this table which characteristics are higher or lower than average so let us compare them normalized by the mean and standard deviation of each column."
      ]
    },
    {
      "cell_type": "code",
      "metadata": {
        "colab": {
          "base_uri": "https://localhost:8080/",
          "height": 204
        },
        "id": "Bg38jgljNppQ",
        "outputId": "9ed42833-c03a-4874-abec-f6290a7b0585"
      },
      "source": [
        "((res.loc[res['HasDiabetes']==0].sort_values('prediction',ascending=False).head(5) - res.mean())/res.std()).iloc[:,range(8)]"
      ],
      "execution_count": null,
      "outputs": [
        {
          "output_type": "execute_result",
          "data": {
            "text/html": [
              "<div>\n",
              "<style scoped>\n",
              "    .dataframe tbody tr th:only-of-type {\n",
              "        vertical-align: middle;\n",
              "    }\n",
              "\n",
              "    .dataframe tbody tr th {\n",
              "        vertical-align: top;\n",
              "    }\n",
              "\n",
              "    .dataframe thead th {\n",
              "        text-align: right;\n",
              "    }\n",
              "</style>\n",
              "<table border=\"1\" class=\"dataframe\">\n",
              "  <thead>\n",
              "    <tr style=\"text-align: right;\">\n",
              "      <th></th>\n",
              "      <th>NumTimesPrg</th>\n",
              "      <th>PlGlcConc</th>\n",
              "      <th>BloodP</th>\n",
              "      <th>SkinThick</th>\n",
              "      <th>TwoHourSerIns</th>\n",
              "      <th>BMI</th>\n",
              "      <th>DiPedFunc</th>\n",
              "      <th>Age</th>\n",
              "    </tr>\n",
              "  </thead>\n",
              "  <tbody>\n",
              "    <tr>\n",
              "      <th>622</th>\n",
              "      <td>0.741709</td>\n",
              "      <td>1.898277</td>\n",
              "      <td>1.363481</td>\n",
              "      <td>-1.294758</td>\n",
              "      <td>-0.667085</td>\n",
              "      <td>1.249918</td>\n",
              "      <td>2.987125</td>\n",
              "      <td>1.242540</td>\n",
              "    </tr>\n",
              "    <tr>\n",
              "      <th>744</th>\n",
              "      <td>3.026171</td>\n",
              "      <td>0.981388</td>\n",
              "      <td>1.041102</td>\n",
              "      <td>1.078202</td>\n",
              "      <td>0.657989</td>\n",
              "      <td>1.224043</td>\n",
              "      <td>2.101087</td>\n",
              "      <td>0.676412</td>\n",
              "    </tr>\n",
              "    <tr>\n",
              "      <th>40</th>\n",
              "      <td>-0.237347</td>\n",
              "      <td>1.806588</td>\n",
              "      <td>-0.248413</td>\n",
              "      <td>0.308593</td>\n",
              "      <td>-0.004548</td>\n",
              "      <td>0.370153</td>\n",
              "      <td>-0.686690</td>\n",
              "      <td>-0.550198</td>\n",
              "    </tr>\n",
              "    <tr>\n",
              "      <th>258</th>\n",
              "      <td>-0.890050</td>\n",
              "      <td>2.203906</td>\n",
              "      <td>-1.000631</td>\n",
              "      <td>-0.268613</td>\n",
              "      <td>2.882221</td>\n",
              "      <td>-0.677802</td>\n",
              "      <td>0.498810</td>\n",
              "      <td>-0.738907</td>\n",
              "    </tr>\n",
              "    <tr>\n",
              "      <th>267</th>\n",
              "      <td>-0.563699</td>\n",
              "      <td>0.217314</td>\n",
              "      <td>-0.248413</td>\n",
              "      <td>1.398872</td>\n",
              "      <td>-0.667085</td>\n",
              "      <td>1.146416</td>\n",
              "      <td>1.875719</td>\n",
              "      <td>-0.738907</td>\n",
              "    </tr>\n",
              "  </tbody>\n",
              "</table>\n",
              "</div>"
            ],
            "text/plain": [
              "     NumTimesPrg  PlGlcConc    BloodP  ...       BMI  DiPedFunc       Age\n",
              "622     0.741709   1.898277  1.363481  ...  1.249918   2.987125  1.242540\n",
              "744     3.026171   0.981388  1.041102  ...  1.224043   2.101087  0.676412\n",
              "40     -0.237347   1.806588 -0.248413  ...  0.370153  -0.686690 -0.550198\n",
              "258    -0.890050   2.203906 -1.000631  ... -0.677802   0.498810 -0.738907\n",
              "267    -0.563699   0.217314 -0.248413  ...  1.146416   1.875719 -0.738907\n",
              "\n",
              "[5 rows x 8 columns]"
            ]
          },
          "metadata": {
            "tags": []
          },
          "execution_count": 9
        }
      ]
    },
    {
      "cell_type": "markdown",
      "metadata": {
        "id": "ZaA5Q0VRDEi9"
      },
      "source": [
        "now we can inspect each row .\n",
        "\n",
        "- All of the rows had higher than average PlGlcConc\n",
        "- rows 228 and 12 had higher DiPedFunc\n",
        "- row 489 had average DiPedFunc but a much higher than average Age\n",
        "- rows 327, 489 and 469 all had much lower skin thickness than average."
      ]
    },
    {
      "cell_type": "markdown",
      "metadata": {
        "id": "KPigo2KELHbm"
      },
      "source": [
        "### Comparing with samples that did have diabetes\n",
        "\n",
        "Next we can compare these to the top 5 samples where the prediction was confident that the individual would have diabetes, and the algorithm was correct."
      ]
    },
    {
      "cell_type": "code",
      "metadata": {
        "colab": {
          "base_uri": "https://localhost:8080/",
          "height": 204
        },
        "id": "W3FIfJQVK6Jk",
        "outputId": "9912416f-76f5-42e3-a565-1753e3b7552d"
      },
      "source": [
        "((res.loc[res['HasDiabetes']==1].sort_values('prediction',ascending=False).head(5) - res.mean())/res.std()).iloc[:,range(8)]"
      ],
      "execution_count": null,
      "outputs": [
        {
          "output_type": "execute_result",
          "data": {
            "text/html": [
              "<div>\n",
              "<style scoped>\n",
              "    .dataframe tbody tr th:only-of-type {\n",
              "        vertical-align: middle;\n",
              "    }\n",
              "\n",
              "    .dataframe tbody tr th {\n",
              "        vertical-align: top;\n",
              "    }\n",
              "\n",
              "    .dataframe thead th {\n",
              "        text-align: right;\n",
              "    }\n",
              "</style>\n",
              "<table border=\"1\" class=\"dataframe\">\n",
              "  <thead>\n",
              "    <tr style=\"text-align: right;\">\n",
              "      <th></th>\n",
              "      <th>NumTimesPrg</th>\n",
              "      <th>PlGlcConc</th>\n",
              "      <th>BloodP</th>\n",
              "      <th>SkinThick</th>\n",
              "      <th>TwoHourSerIns</th>\n",
              "      <th>BMI</th>\n",
              "      <th>DiPedFunc</th>\n",
              "      <th>Age</th>\n",
              "    </tr>\n",
              "  </thead>\n",
              "  <tbody>\n",
              "    <tr>\n",
              "      <th>661</th>\n",
              "      <td>-0.890050</td>\n",
              "      <td>2.387284</td>\n",
              "      <td>0.396345</td>\n",
              "      <td>1.463006</td>\n",
              "      <td>-0.667085</td>\n",
              "      <td>1.521610</td>\n",
              "      <td>2.780280</td>\n",
              "      <td>-0.927616</td>\n",
              "    </tr>\n",
              "    <tr>\n",
              "      <th>546</th>\n",
              "      <td>0.415357</td>\n",
              "      <td>2.020528</td>\n",
              "      <td>0.396345</td>\n",
              "      <td>0.436861</td>\n",
              "      <td>1.292132</td>\n",
              "      <td>1.612174</td>\n",
              "      <td>1.668874</td>\n",
              "      <td>1.997377</td>\n",
              "    </tr>\n",
              "    <tr>\n",
              "      <th>408</th>\n",
              "      <td>1.394412</td>\n",
              "      <td>2.326158</td>\n",
              "      <td>0.288885</td>\n",
              "      <td>-1.294758</td>\n",
              "      <td>-0.667085</td>\n",
              "      <td>-0.677802</td>\n",
              "      <td>2.153570</td>\n",
              "      <td>0.676412</td>\n",
              "    </tr>\n",
              "    <tr>\n",
              "      <th>215</th>\n",
              "      <td>2.699820</td>\n",
              "      <td>0.920262</td>\n",
              "      <td>0.073966</td>\n",
              "      <td>1.270604</td>\n",
              "      <td>1.897880</td>\n",
              "      <td>1.379295</td>\n",
              "      <td>0.767400</td>\n",
              "      <td>0.582058</td>\n",
              "    </tr>\n",
              "    <tr>\n",
              "      <th>236</th>\n",
              "      <td>1.068060</td>\n",
              "      <td>1.837151</td>\n",
              "      <td>0.826183</td>\n",
              "      <td>0.052057</td>\n",
              "      <td>1.150159</td>\n",
              "      <td>0.615970</td>\n",
              "      <td>0.285790</td>\n",
              "      <td>1.808668</td>\n",
              "    </tr>\n",
              "  </tbody>\n",
              "</table>\n",
              "</div>"
            ],
            "text/plain": [
              "     NumTimesPrg  PlGlcConc    BloodP  ...       BMI  DiPedFunc       Age\n",
              "661    -0.890050   2.387284  0.396345  ...  1.521610   2.780280 -0.927616\n",
              "546     0.415357   2.020528  0.396345  ...  1.612174   1.668874  1.997377\n",
              "408     1.394412   2.326158  0.288885  ... -0.677802   2.153570  0.676412\n",
              "215     2.699820   0.920262  0.073966  ...  1.379295   0.767400  0.582058\n",
              "236     1.068060   1.837151  0.826183  ...  0.615970   0.285790  1.808668\n",
              "\n",
              "[5 rows x 8 columns]"
            ]
          },
          "metadata": {
            "tags": []
          },
          "execution_count": 10
        }
      ]
    },
    {
      "cell_type": "markdown",
      "metadata": {
        "id": "iIB6W5fbVwW5"
      },
      "source": [
        "We can plot the results side by side for an easier comparison."
      ]
    },
    {
      "cell_type": "code",
      "metadata": {
        "colab": {
          "base_uri": "https://localhost:8080/",
          "height": 417
        },
        "id": "4baw1wyBKJox",
        "outputId": "1cad7b5c-f75f-42bd-a756-ecbc45af1f58"
      },
      "source": [
        "fig, ax = plt.subplots(1,2,figsize=(10,6))\n",
        "((res.loc[res['HasDiabetes']==0].sort_values('prediction',ascending=False).head(5) - res.mean())/res.std()).iloc[:,range(8)].plot.bar(ax=ax[0],legend=False,title='confident and incorrect')\n",
        "((res.loc[res['HasDiabetes']==1].sort_values('prediction',ascending=False).head(5) - res.mean())/res.std()).iloc[:,range(8)].plot.bar(ax=ax[1],title='confident and correct')\n",
        "plt.legend(loc='center left', bbox_to_anchor=(1.0, 0.5))"
      ],
      "execution_count": null,
      "outputs": [
        {
          "output_type": "execute_result",
          "data": {
            "text/plain": [
              "<matplotlib.legend.Legend at 0x7f5edc6b1fd0>"
            ]
          },
          "metadata": {
            "tags": []
          },
          "execution_count": 11
        },
        {
          "output_type": "display_data",
          "data": {
            "image/png": "[encoded data removed]",
            "text/plain": [
              "<Figure size 720x432 with 2 Axes>"
            ]
          },
          "metadata": {
            "tags": [],
            "needs_background": "light"
          }
        }
      ]
    },
    {
      "cell_type": "markdown",
      "metadata": {
        "id": "mBy3g7pVglrW"
      },
      "source": [
        "While its hard to gather too much from these few data points, one feature that jumps out are the lower than average values of a few variables that may have caused 258 and 267 to be incorrectly labeled. \n",
        "\n",
        "Analysis like this can help point out which if any variables are leading the algorithm astray in extreme situations."
      ]
    },
    {
      "cell_type": "markdown",
      "metadata": {
        "id": "3IyS0l49ijuj"
      },
      "source": [
        "### Exercise for the Reader: Most confident incorrectly classified as non-diabetic\n",
        "\n",
        "A very similar analysis can be performed on individuals who were confidently predicted to be non-diabetic. We leave this as an exercise for the reader."
      ]
    },
    {
      "cell_type": "markdown",
      "metadata": {
        "id": "6sS9ExLfZV-t"
      },
      "source": [
        "# Working with a more complex model (Random Forest)\n",
        "The findings for the logistic regression model follow directly from the values of the coefficients of the regression.  However, some models are not so amenable to inspection up front. In this section we reapply the same analysis to a Random Forest model where we cannot naively check the weight and direction of influence for each variable."
      ]
    },
    {
      "cell_type": "code",
      "metadata": {
        "id": "3ZJ2W6z5Oe4U"
      },
      "source": [
        "from sklearn.ensemble import RandomForestClassifier\n",
        "clf = RandomForestClassifier(random_state=0)\n",
        "\n",
        "X = df_train.iloc[:,range(8)]\n",
        "Y = df_train.iloc[:,8]\n",
        "\n",
        "clf.fit(X, Y)\n",
        "\n",
        "res['prediction_rf'] = clf.predict_proba(df_test.iloc[:,range(8)])[:,1]"
      ],
      "execution_count": null,
      "outputs": []
    },
    {
      "cell_type": "markdown",
      "metadata": {
        "id": "JX4cP2t_dtF0"
      },
      "source": [
        "Like last time we can analyze the most confident incorrect classifications.  Here we skip to the last figure from Sensitivity Analysis 1 for the direct comparison between those incorrectly classified who were truly diabetic or truly non-diabetic."
      ]
    },
    {
      "cell_type": "code",
      "metadata": {
        "colab": {
          "base_uri": "https://localhost:8080/",
          "height": 417
        },
        "id": "LkscMGdsaKMO",
        "outputId": "7759826b-8480-4861-c2ac-5eefe41a8d04"
      },
      "source": [
        "fig, ax = plt.subplots(1,2,figsize=(10,6))\n",
        "((res.loc[res['HasDiabetes']==0].sort_values('prediction_rf',ascending=False).head(5) - res.mean())/res.std()).iloc[:,range(8)].plot.bar(ax=ax[0],legend=False,title='confident and incorrect')\n",
        "((res.loc[res['HasDiabetes']==1].sort_values('prediction_rf',ascending=False).head(5) - res.mean())/res.std()).iloc[:,range(8)].plot.bar(ax=ax[1],title='confident and correct')\n",
        "plt.legend(loc='center left', bbox_to_anchor=(1.0, 0.5))"
      ],
      "execution_count": null,
      "outputs": [
        {
          "output_type": "execute_result",
          "data": {
            "text/plain": [
              "<matplotlib.legend.Legend at 0x7f5ed8c0b198>"
            ]
          },
          "metadata": {
            "tags": []
          },
          "execution_count": 13
        },
        {
          "output_type": "display_data",
          "data": {
            "image/png": "[encoded data removed]",
            "text/plain": [
              "<Figure size 720x432 with 2 Axes>"
            ]
          },
          "metadata": {
            "tags": [],
            "needs_background": "light"
          }
        }
      ]
    },
    {
      "cell_type": "markdown",
      "metadata": {
        "id": "nGuj7mzTbAin"
      },
      "source": [
        "One thing that leaps out is that, we see that the value of DiPedFunc was much higher in one example than in the correctly labeled ones.  This could potentially indicate that in that extreme regime, our model is going astray.  Perhaps our underlying dataset has few individuals with TwoHourSerIns values that high.  Further analysis could clarify the reason for this.\n",
        "\n",
        "Since we did not see this with the Logistic Regression model, this suggests there could be a difference here in how the two underlying models operate.\n"
      ]
    },
    {
      "cell_type": "markdown",
      "metadata": {
        "id": "UslTMw8srjw0"
      },
      "source": [
        "### Additional analysis: comparing to the most ambigous case\n",
        "\n",
        "Finally, we can try to compare our confident predictions to the ones where the predictions are less sure.  We consider our predictions ambiguous when the value of the predicted probability is close to 0.5, indicating that in our algorithms opinion, the individual is a coin toss for developing diabetes or not."
      ]
    },
    {
      "cell_type": "code",
      "metadata": {
        "colab": {
          "base_uri": "https://localhost:8080/",
          "height": 417
        },
        "id": "MCC4FtExptae",
        "outputId": "59108f77-39e2-484d-f73c-59ab03ac5940"
      },
      "source": [
        "res['pred_rf_05']=(res['prediction_rf']-0.5).abs()\n",
        "fig, ax = plt.subplots(1,2,figsize=(10,6))\n",
        "((res.sort_values('pred_rf_05').head(5) - res.mean())/res.std()).iloc[:,range(8)].plot.bar(ax=ax[0],legend=False,title='ambiguous')\n",
        "((res.loc[res['HasDiabetes']==1].sort_values('prediction_rf',ascending=False).head(5) - res.mean())/res.std()).iloc[:,range(8)].plot.bar(ax=ax[1],title='confident and correct')\n",
        "plt.legend(loc='center left', bbox_to_anchor=(1.0, 0.5))"
      ],
      "execution_count": null,
      "outputs": [
        {
          "output_type": "execute_result",
          "data": {
            "text/plain": [
              "<matplotlib.legend.Legend at 0x7f5ed8acaba8>"
            ]
          },
          "metadata": {
            "tags": []
          },
          "execution_count": 14
        },
        {
          "output_type": "display_data",
          "data": {
            "image/png": "[encoded data removed]",
            "text/plain": [
              "<Figure size 720x432 with 2 Axes>"
            ]
          },
          "metadata": {
            "tags": [],
            "needs_background": "light"
          }
        }
      ]
    },
    {
      "cell_type": "markdown",
      "metadata": {
        "id": "33Dp7fxvr9GJ"
      },
      "source": [
        "While nothing too drastic leaps out, we can see that in one case the BloodP value was much lower than in other cases. Also there appears to be much more scatter around the average value for each feature in the majority of ambiguous cases."
      ]
    },
    {
      "cell_type": "markdown",
      "metadata": {
        "id": "REWwS4kfl7k2"
      },
      "source": [
        "# Conclusion\n",
        "\n",
        "This notebook illustrated a suggested method for interrogating a model in a simple manner. While it can be helpful in explaining the model, it should be pointed out that analyzing just the top 5 elements is very limited and could easily lead to erroneous generalizations.  This method is only intended as a way to start the process of re-analyzing one's models and suggest possible areas of focus for further study."
      ]
    },
    {
      "cell_type": "code",
      "metadata": {
        "id": "6J2ec9tRmqjr"
      },
      "source": [
        ""
      ],
      "execution_count": null,
      "outputs": []
    }
  ]
}