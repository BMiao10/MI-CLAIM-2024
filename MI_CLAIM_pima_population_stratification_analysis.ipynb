{
  "nbformat": 4,
  "nbformat_minor": 0,
  "metadata": {
    "colab": {
      "name": "Pop_Strat.ipynb",
      "provenance": []
    },
    "kernelspec": {
      "name": "python3",
      "display_name": "Python 3"
    }
  },
  "cells": [
    {
      "cell_type": "code",
      "metadata": {
        "id": "aZiCvVmgsvgi"
      },
      "source": [
        "import pandas as pd\n",
        "import numpy as np\n",
        "from scipy import stats\n",
        "from matplotlib import pyplot as plt"
      ],
      "execution_count": 1,
      "outputs": []
    },
    {
      "cell_type": "markdown",
      "metadata": {
        "id": "5po46vN4h2GH"
      },
      "source": [
        "# Get and Load the Pima Indians Diabetes dataset\n",
        "\n",
        "We download the data from an nrvis repository. And we load it into a pandas dataframe."
      ]
    },
    {
      "cell_type": "code",
      "metadata": {
        "colab": {
          "base_uri": "https://localhost:8080/"
        },
        "id": "jeaaic7atmQM",
        "outputId": "36d7768f-e7d3-4458-e4f0-af45fa81c9d0"
      },
      "source": [
        "!wget http://nrvis.com/data/mldata/pima-indians-diabetes.csv"
      ],
      "execution_count": 2,
      "outputs": [
        {
          "output_type": "stream",
          "text": [
            "--2021-01-07 20:22:24--  http://nrvis.com/data/mldata/pima-indians-diabetes.csv\n",
            "Resolving nrvis.com (nrvis.com)... 173.236.176.48\n",
            "Connecting to nrvis.com (nrvis.com)|173.236.176.48|:80... connected.\n",
            "HTTP request sent, awaiting response... 200 OK\n",
            "Length: 23279 (23K) [text/csv]\n",
            "Saving to: ‘pima-indians-diabetes.csv.7’\n",
            "\n",
            "\r          pima-indi   0%[                    ]       0  --.-KB/s               \rpima-indians-diabet 100%[===================>]  22.73K  --.-KB/s    in 0.02s   \n",
            "\n",
            "2021-01-07 20:22:25 (1.16 MB/s) - ‘pima-indians-diabetes.csv.7’ saved [23279/23279]\n",
            "\n"
          ],
          "name": "stdout"
        }
      ]
    },
    {
      "cell_type": "code",
      "metadata": {
        "id": "m3GhrO9etovc"
      },
      "source": [
        "df = pd.read_csv('pima-indians-diabetes.csv',header=None)\n",
        "# 0. Number of times pregnant\n",
        "# 1. Plasma glucose concentration a 2 hours in an oral glucose tolerance test\n",
        "# 2. Diastolic blood pressure (mm Hg)\n",
        "# 3. Triceps skin fold thickness (mm)\n",
        "# 4. 2-Hour serum insulin (mu U/ml)\n",
        "# 5. Body mass index (weight in kg/(height in m)^2)\n",
        "# 6. Diabetes pedigree function\n",
        "# 7. Age (years)\n",
        "# 8. Class variable (0 or 1)\n",
        "df.columns = [\"NumTimesPrg\", \"PlGlcConc\", \"BloodP\", \"SkinThick\", \"TwoHourSerIns\", \"BMI\", \"DiPedFunc\", \"Age\", \"HasDiabetes\"]"
      ],
      "execution_count": 3,
      "outputs": []
    },
    {
      "cell_type": "markdown",
      "metadata": {
        "id": "Ww7NUqO_wRUL"
      },
      "source": [
        "--------------------------------------------------------------------"
      ]
    },
    {
      "cell_type": "markdown",
      "metadata": {
        "id": "E7TmPcrEpqtw"
      },
      "source": [
        "# Define Helper Functions"
      ]
    },
    {
      "cell_type": "code",
      "metadata": {
        "colab": {
          "base_uri": "https://localhost:8080/"
        },
        "id": "wu5IzSOyrjud",
        "outputId": "ed2a170c-78e8-44fa-88fb-cdb4602dcd41"
      },
      "source": [
        "from sklearn.model_selection import train_test_split\n",
        "from sklearn.metrics import accuracy_score\n",
        "import statsmodels.api as sm"
      ],
      "execution_count": 4,
      "outputs": [
        {
          "output_type": "stream",
          "text": [
            "/usr/local/lib/python3.6/dist-packages/statsmodels/tools/_testing.py:19: FutureWarning: pandas.util.testing is deprecated. Use the functions in the public API at pandas.testing instead.\n",
            "  import pandas.util.testing as tm\n"
          ],
          "name": "stderr"
        }
      ]
    },
    {
      "cell_type": "markdown",
      "metadata": {
        "id": "jAAI1EldpgFL"
      },
      "source": [
        "### Train using a Logistic Regression\n",
        "\n",
        "We use a simple Logistic Regression model to train our datasets"
      ]
    },
    {
      "cell_type": "code",
      "metadata": {
        "id": "3eyWG4F7pgbM"
      },
      "source": [
        "def train_lr(df_train):\n",
        "  X = df_train.iloc[:,range(8)]\n",
        "  Y = df_train.iloc[:,8]\n",
        "\n",
        "  X = sm.add_constant(X)\n",
        "\n",
        "  model = sm.Logit(Y, X).fit()\n",
        "\n",
        "  print(model.summary())\n",
        "\n",
        "  return model"
      ],
      "execution_count": 5,
      "outputs": []
    },
    {
      "cell_type": "markdown",
      "metadata": {
        "id": "MjPqUSIXqMP2"
      },
      "source": [
        "#### Predict and generate accuracry score\n",
        "\n",
        "We use our model to generate prediction probabilites (range 0-1) on our test dataset. We use prediction probability >= 0.5 to assess if the model predicts the individual has diabetes.\n",
        "\n",
        "We then compare if the individual actually had diabetes and generate an accurancy for our model."
      ]
    },
    {
      "cell_type": "code",
      "metadata": {
        "id": "PsOI3r-bqA4d"
      },
      "source": [
        "def predict_and_evaluate(df_test, model):\n",
        "  y_pred = model.predict(sm.add_constant(df_test.iloc[:,range(8)]))\n",
        "  y_pred.name='prediction'\n",
        "  res = pd.concat([df_test, y_pred],axis=1)\n",
        "\n",
        "  res['PredDiabetes'] = np.where(res['prediction'] >= 0.5, 1, 0)\n",
        "\n",
        "  acc = accuracy_score(res['HasDiabetes'], res['PredDiabetes'])\n",
        "  print('\\n')\n",
        "  print(f'Accuracy = {acc} for baseline Logistic Regression')\n",
        "\n",
        "  return res"
      ],
      "execution_count": 6,
      "outputs": []
    },
    {
      "cell_type": "markdown",
      "metadata": {
        "id": "yFdXzoNAedoj"
      },
      "source": [
        "#### Plot top-k confident and correct/incorrect\n",
        "\n",
        "We create side-by-side plots of the top-k samples where the model was confident in its prediction, with the first plot being most confident yet incorrect prediction and the second being the most confident and correct prediction.\n",
        "\n",
        "Such plots can be used to analyze which variables might be leading the model astray in extreme situations."
      ]
    },
    {
      "cell_type": "code",
      "metadata": {
        "id": "Fdzne3t2a6JC"
      },
      "source": [
        "def plot_topk(res, k=5):\n",
        "  fig, ax = plt.subplots(1,2,figsize=(10,6))\n",
        "  ((res.loc[res['HasDiabetes']==0].sort_values('prediction',ascending=False).head(k) - res.mean())/res.std()).iloc[:,range(8)].plot.bar(ax=ax[0],legend=False,title='confident and incorrect')\n",
        "  ((res.loc[res['HasDiabetes']==1].sort_values('prediction',ascending=False).head(k) - res.mean())/res.std()).iloc[:,range(8)].plot.bar(ax=ax[1],title='confident and correct')\n",
        "  plt.legend(loc='center left', bbox_to_anchor=(1.0, 0.5))\n",
        "  plt.show()"
      ],
      "execution_count": 7,
      "outputs": []
    },
    {
      "cell_type": "markdown",
      "metadata": {
        "id": "CMPlQW10rMyt"
      },
      "source": [
        "### Runner\n",
        "\n",
        "This function runs our training and testing"
      ]
    },
    {
      "cell_type": "code",
      "metadata": {
        "id": "qFD6FOtXqbC2"
      },
      "source": [
        "def train_and_test(df_train, df_test):\n",
        "  model = train_lr(df_train)\n",
        "  res = predict_and_evaluate(df_test, model)\n",
        "  plot_topk(res)"
      ],
      "execution_count": 8,
      "outputs": []
    },
    {
      "cell_type": "markdown",
      "metadata": {
        "id": "SIPTRFL-wTtG"
      },
      "source": [
        "--------------------------------------------------------------------"
      ]
    },
    {
      "cell_type": "markdown",
      "metadata": {
        "id": "5CBXNyKuggsf"
      },
      "source": [
        "# Baseline\n",
        "\n",
        "We train a baseline LR model without any straifications on the features"
      ]
    },
    {
      "cell_type": "code",
      "metadata": {
        "colab": {
          "base_uri": "https://localhost:8080/",
          "height": 875
        },
        "id": "5UaVhSRGvn3D",
        "outputId": "ee01d4ab-01d5-4e1a-c712-4ba4ec34eaff"
      },
      "source": [
        "df_train, df_test = train_test_split(df,test_size=0.2, random_state=0)\n",
        "\n",
        "train_and_test(df_train, df_test)"
      ],
      "execution_count": 9,
      "outputs": [
        {
          "output_type": "stream",
          "text": [
            "Optimization terminated successfully.\n",
            "         Current function value: 0.483040\n",
            "         Iterations 6\n",
            "                           Logit Regression Results                           \n",
            "==============================================================================\n",
            "Dep. Variable:            HasDiabetes   No. Observations:                  614\n",
            "Model:                          Logit   Df Residuals:                      605\n",
            "Method:                           MLE   Df Model:                            8\n",
            "Date:                Thu, 07 Jan 2021   Pseudo R-squ.:                  0.2607\n",
            "Time:                        20:22:25   Log-Likelihood:                -296.59\n",
            "converged:                       True   LL-Null:                       -401.18\n",
            "Covariance Type:            nonrobust   LLR p-value:                 7.418e-41\n",
            "=================================================================================\n",
            "                    coef    std err          z      P>|z|      [0.025      0.975]\n",
            "---------------------------------------------------------------------------------\n",
            "const            -8.1937      0.780    -10.507      0.000      -9.722      -6.665\n",
            "NumTimesPrg       0.0914      0.034      2.664      0.008       0.024       0.159\n",
            "PlGlcConc         0.0339      0.004      8.224      0.000       0.026       0.042\n",
            "BloodP           -0.0137      0.006     -2.369      0.018      -0.025      -0.002\n",
            "SkinThick         0.0044      0.008      0.569      0.569      -0.011       0.020\n",
            "TwoHourSerIns    -0.0014      0.001     -1.443      0.149      -0.003       0.001\n",
            "BMI               0.0880      0.017      5.313      0.000       0.056       0.120\n",
            "DiPedFunc         0.8960      0.332      2.700      0.007       0.246       1.547\n",
            "Age               0.0199      0.010      1.931      0.054      -0.000       0.040\n",
            "=================================================================================\n",
            "\n",
            "\n",
            "Accuracy = 0.8246753246753247 for baseline Logistic Regression\n"
          ],
          "name": "stdout"
        },
        {
          "output_type": "display_data",
          "data": {
            "image/png": "[encoded data removed]",
            "text/plain": [
              "<Figure size 720x432 with 2 Axes>"
            ]
          },
          "metadata": {
            "tags": [],
            "needs_background": "light"
          }
        }
      ]
    },
    {
      "cell_type": "markdown",
      "metadata": {
        "id": "z1G17owjwlMW"
      },
      "source": [
        "We find our simple Logistic Regression model performs decently well at predicting diabetes among this population"
      ]
    },
    {
      "cell_type": "markdown",
      "metadata": {
        "id": "848opESAwcMy"
      },
      "source": [
        "--------------------------------------------------------------------"
      ]
    },
    {
      "cell_type": "markdown",
      "metadata": {
        "id": "259Lzyi8oUer"
      },
      "source": [
        "# Straification on Subpopulations\n",
        "\n",
        "Now we judge the model's accuracy on different stratifications of the features. We choose 3 subpopulations based on younger/older age and healthy/unhealthy BMI, as they demonstrate good predictive power from the baseline model:\n",
        "\n",
        "1 - Younger (Age < 40) and non-obese BMI (BMI < 30)\n",
        "\n",
        "2 - Younger (Age < 40) and obese BMI (BMI >= 30)\n",
        "\n",
        "3 - Obese BMI only (BMI >= 30)\n",
        "\n",
        "\n",
        "We also confirm these subpopulations have sufficient counts (~ >100) to avoid too few data points during training and testing"
      ]
    },
    {
      "cell_type": "code",
      "metadata": {
        "colab": {
          "base_uri": "https://localhost:8080/"
        },
        "id": "7yrGgVw7mVf9",
        "outputId": "163e9bd8-59f9-45e1-b945-5aebf52b1c3d"
      },
      "source": [
        "pop1_df = df[(df['Age'] < 40) & (df['BMI'] < 30)]\n",
        "pop2_df = df[(df['Age'] < 40) & (df['BMI'] >= 30)]\n",
        "pop3_df = df[(df['BMI'] >= 30)]\n",
        "\n",
        "print(len(pop1_df))\n",
        "print(len(pop2_df))\n",
        "print(len(pop3_df))"
      ],
      "execution_count": 10,
      "outputs": [
        {
          "output_type": "stream",
          "text": [
            "230\n",
            "331\n",
            "472\n"
          ],
          "name": "stdout"
        }
      ]
    },
    {
      "cell_type": "markdown",
      "metadata": {
        "id": "U3D5IH_ptoPJ"
      },
      "source": [
        "# Stratification #1"
      ]
    },
    {
      "cell_type": "code",
      "metadata": {
        "colab": {
          "base_uri": "https://localhost:8080/",
          "height": 875
        },
        "id": "FiRReMtrsbgy",
        "outputId": "be150228-7e85-4673-9264-7e0afb020916"
      },
      "source": [
        "pop1_df_train, pop1_df_test = train_test_split(pop1_df, test_size=0.2, random_state=0)\n",
        "\n",
        "train_and_test(pop1_df_train, pop1_df_test)"
      ],
      "execution_count": 11,
      "outputs": [
        {
          "output_type": "stream",
          "text": [
            "Optimization terminated successfully.\n",
            "         Current function value: 0.197116\n",
            "         Iterations 8\n",
            "                           Logit Regression Results                           \n",
            "==============================================================================\n",
            "Dep. Variable:            HasDiabetes   No. Observations:                  184\n",
            "Model:                          Logit   Df Residuals:                      175\n",
            "Method:                           MLE   Df Model:                            8\n",
            "Date:                Thu, 07 Jan 2021   Pseudo R-squ.:                  0.4066\n",
            "Time:                        20:22:26   Log-Likelihood:                -36.269\n",
            "converged:                       True   LL-Null:                       -61.123\n",
            "Covariance Type:            nonrobust   LLR p-value:                 4.652e-08\n",
            "=================================================================================\n",
            "                    coef    std err          z      P>|z|      [0.025      0.975]\n",
            "---------------------------------------------------------------------------------\n",
            "const           -10.3614      2.652     -3.906      0.000     -15.560      -5.163\n",
            "NumTimesPrg       0.6308      0.182      3.464      0.001       0.274       0.988\n",
            "PlGlcConc         0.0567      0.015      3.701      0.000       0.027       0.087\n",
            "BloodP           -0.0246      0.014     -1.773      0.076      -0.052       0.003\n",
            "SkinThick         0.0009      0.029      0.030      0.976      -0.056       0.058\n",
            "TwoHourSerIns    -0.0058      0.005     -1.154      0.249      -0.016       0.004\n",
            "BMI               0.0897      0.067      1.334      0.182      -0.042       0.221\n",
            "DiPedFunc         1.9804      1.108      1.788      0.074      -0.191       4.152\n",
            "Age              -0.0896      0.080     -1.115      0.265      -0.247       0.068\n",
            "=================================================================================\n",
            "\n",
            "\n",
            "Accuracy = 0.8478260869565217 for baseline Logistic Regression\n"
          ],
          "name": "stdout"
        },
        {
          "output_type": "display_data",
          "data": {
            "image/png": "[encoded data removed]",
            "text/plain": [
              "<Figure size 720x432 with 2 Axes>"
            ]
          },
          "metadata": {
            "tags": [],
            "needs_background": "light"
          }
        }
      ]
    },
    {
      "cell_type": "markdown",
      "metadata": {
        "id": "bi8Bsz4atsHu"
      },
      "source": [
        "# Stratification #2"
      ]
    },
    {
      "cell_type": "code",
      "metadata": {
        "colab": {
          "base_uri": "https://localhost:8080/",
          "height": 875
        },
        "id": "j5L-qN84sqPJ",
        "outputId": "742ccb6e-e248-4b5f-9125-192b9043fe22"
      },
      "source": [
        "pop2_df_train, pop2_df_test = train_test_split(pop2_df, test_size=0.2, random_state=0)\n",
        "\n",
        "train_and_test(pop2_df_train, pop2_df_test)"
      ],
      "execution_count": 12,
      "outputs": [
        {
          "output_type": "stream",
          "text": [
            "Optimization terminated successfully.\n",
            "         Current function value: 0.489300\n",
            "         Iterations 6\n",
            "                           Logit Regression Results                           \n",
            "==============================================================================\n",
            "Dep. Variable:            HasDiabetes   No. Observations:                  264\n",
            "Model:                          Logit   Df Residuals:                      255\n",
            "Method:                           MLE   Df Model:                            8\n",
            "Date:                Thu, 07 Jan 2021   Pseudo R-squ.:                  0.2736\n",
            "Time:                        20:22:26   Log-Likelihood:                -129.18\n",
            "converged:                       True   LL-Null:                       -177.84\n",
            "Covariance Type:            nonrobust   LLR p-value:                 1.504e-17\n",
            "=================================================================================\n",
            "                    coef    std err          z      P>|z|      [0.025      0.975]\n",
            "---------------------------------------------------------------------------------\n",
            "const            -7.7150      1.589     -4.855      0.000     -10.830      -4.600\n",
            "NumTimesPrg      -0.0660      0.075     -0.878      0.380      -0.213       0.081\n",
            "PlGlcConc         0.0389      0.006      6.059      0.000       0.026       0.052\n",
            "BloodP           -0.0320      0.011     -2.917      0.004      -0.054      -0.011\n",
            "SkinThick        -0.0065      0.011     -0.584      0.559      -0.028       0.015\n",
            "TwoHourSerIns    -0.0040      0.002     -2.614      0.009      -0.007      -0.001\n",
            "BMI               0.0408      0.030      1.344      0.179      -0.019       0.100\n",
            "DiPedFunc         1.8126      0.521      3.478      0.001       0.791       2.834\n",
            "Age               0.1077      0.040      2.686      0.007       0.029       0.186\n",
            "=================================================================================\n",
            "\n",
            "\n",
            "Accuracy = 0.7164179104477612 for baseline Logistic Regression\n"
          ],
          "name": "stdout"
        },
        {
          "output_type": "display_data",
          "data": {
            "image/png": "[encoded data removed]",
            "text/plain": [
              "<Figure size 720x432 with 2 Axes>"
            ]
          },
          "metadata": {
            "tags": [],
            "needs_background": "light"
          }
        }
      ]
    },
    {
      "cell_type": "markdown",
      "metadata": {
        "id": "sELDrIX_ttRk"
      },
      "source": [
        "# Stratification #3"
      ]
    },
    {
      "cell_type": "code",
      "metadata": {
        "colab": {
          "base_uri": "https://localhost:8080/",
          "height": 875
        },
        "id": "GBNshpVtsyeW",
        "outputId": "40e036bb-b1e0-4a80-fa41-b046043fb9a1"
      },
      "source": [
        "pop3_df_train, pop3_df_test = train_test_split(pop3_df, test_size=0.2, random_state=0)\n",
        "\n",
        "train_and_test(pop3_df_train, pop3_df_test)"
      ],
      "execution_count": 13,
      "outputs": [
        {
          "output_type": "stream",
          "text": [
            "Optimization terminated successfully.\n",
            "         Current function value: 0.529617\n",
            "         Iterations 6\n",
            "                           Logit Regression Results                           \n",
            "==============================================================================\n",
            "Dep. Variable:            HasDiabetes   No. Observations:                  377\n",
            "Model:                          Logit   Df Residuals:                      368\n",
            "Method:                           MLE   Df Model:                            8\n",
            "Date:                Thu, 07 Jan 2021   Pseudo R-squ.:                  0.2345\n",
            "Time:                        20:22:27   Log-Likelihood:                -199.67\n",
            "converged:                       True   LL-Null:                       -260.84\n",
            "Covariance Type:            nonrobust   LLR p-value:                 1.087e-22\n",
            "=================================================================================\n",
            "                    coef    std err          z      P>|z|      [0.025      0.975]\n",
            "---------------------------------------------------------------------------------\n",
            "const            -6.7914      1.168     -5.816      0.000      -9.080      -4.503\n",
            "NumTimesPrg       0.0653      0.043      1.530      0.126      -0.018       0.149\n",
            "PlGlcConc         0.0352      0.005      7.351      0.000       0.026       0.045\n",
            "BloodP           -0.0170      0.007     -2.279      0.023      -0.032      -0.002\n",
            "SkinThick         0.0013      0.009      0.144      0.885      -0.016       0.018\n",
            "TwoHourSerIns    -0.0013      0.001     -1.087      0.277      -0.004       0.001\n",
            "BMI               0.0470      0.025      1.863      0.062      -0.002       0.096\n",
            "DiPedFunc         1.1303      0.409      2.762      0.006       0.328       1.932\n",
            "Age               0.0306      0.014      2.111      0.035       0.002       0.059\n",
            "=================================================================================\n",
            "\n",
            "\n",
            "Accuracy = 0.7052631578947368 for baseline Logistic Regression\n"
          ],
          "name": "stdout"
        },
        {
          "output_type": "display_data",
          "data": {
            "image/png": "[encoded data removed]",
            "text/plain": [
              "<Figure size 720x432 with 2 Axes>"
            ]
          },
          "metadata": {
            "tags": [],
            "needs_background": "light"
          }
        }
      ]
    },
    {
      "cell_type": "markdown",
      "metadata": {
        "id": "59B2jizwtwBe"
      },
      "source": [
        "# Analysis of good stratifications\n",
        "\n",
        "We see from these examples that each chosen stratification generates Logistic Regression models that perform fairly well (70% to 100% accuracy).\n",
        "\n",
        "This indicates that stratifications of interesting features allows the model to have better (or similar) performance to the whole population (baseline) model."
      ]
    },
    {
      "cell_type": "markdown",
      "metadata": {
        "id": "b4iseH8TwHu9"
      },
      "source": [
        "--------------------------------------------------------------------"
      ]
    },
    {
      "cell_type": "markdown",
      "metadata": {
        "id": "CJfDMxwGwprv"
      },
      "source": [
        "# Analysis of bad stratifications\n",
        "\n",
        "Now we stratify on the same features but chooose cutoffs that are more extreme and less sensical to the problem (predicting diabetes)."
      ]
    },
    {
      "cell_type": "code",
      "metadata": {
        "colab": {
          "base_uri": "https://localhost:8080/",
          "height": 875
        },
        "id": "Y7c8_Esis_Hi",
        "outputId": "812c083b-a590-4dff-c9b0-8e197bbf5a82"
      },
      "source": [
        "bad_pop_df = df[(df['Age'] > 55) & (df['BMI'] > 20)]\n",
        "\n",
        "bad_pop_df_train, bad_pop_df_test = train_test_split(bad_pop_df, test_size=0.2, random_state=0)\n",
        "\n",
        "train_and_test(bad_pop_df_train, bad_pop_df_test)"
      ],
      "execution_count": 14,
      "outputs": [
        {
          "output_type": "stream",
          "text": [
            "Optimization terminated successfully.\n",
            "         Current function value: 0.348875\n",
            "         Iterations 8\n",
            "                           Logit Regression Results                           \n",
            "==============================================================================\n",
            "Dep. Variable:            HasDiabetes   No. Observations:                   37\n",
            "Model:                          Logit   Df Residuals:                       28\n",
            "Method:                           MLE   Df Model:                            8\n",
            "Date:                Thu, 07 Jan 2021   Pseudo R-squ.:                  0.4740\n",
            "Time:                        20:22:27   Log-Likelihood:                -12.908\n",
            "converged:                       True   LL-Null:                       -24.541\n",
            "Covariance Type:            nonrobust   LLR p-value:                  0.003040\n",
            "=================================================================================\n",
            "                    coef    std err          z      P>|z|      [0.025      0.975]\n",
            "---------------------------------------------------------------------------------\n",
            "const             0.4976     10.866      0.046      0.963     -20.800      21.795\n",
            "NumTimesPrg      -0.4095      0.209     -1.960      0.050      -0.819    9.68e-06\n",
            "PlGlcConc         0.0432      0.020      2.180      0.029       0.004       0.082\n",
            "BloodP            0.0485      0.050      0.968      0.333      -0.050       0.147\n",
            "SkinThick        -0.0325      0.027     -1.198      0.231      -0.086       0.021\n",
            "TwoHourSerIns     0.0106      0.008      1.326      0.185      -0.005       0.026\n",
            "BMI               0.2168      0.146      1.483      0.138      -0.070       0.503\n",
            "DiPedFunc         1.9441      1.780      1.092      0.275      -1.545       5.433\n",
            "Age              -0.2639      0.206     -1.281      0.200      -0.668       0.140\n",
            "=================================================================================\n",
            "\n",
            "\n",
            "Accuracy = 0.8 for baseline Logistic Regression\n"
          ],
          "name": "stdout"
        },
        {
          "output_type": "display_data",
          "data": {
            "image/png": "[encoded data removed]",
            "text/plain": [
              "<Figure size 720x432 with 2 Axes>"
            ]
          },
          "metadata": {
            "tags": [],
            "needs_background": "light"
          }
        }
      ]
    },
    {
      "cell_type": "markdown",
      "metadata": {
        "id": "Ru7W3kmKy3Yz"
      },
      "source": [
        "We see that the trained model does not perform well, and is even worse at predicting diabetes than chance."
      ]
    },
    {
      "cell_type": "code",
      "metadata": {
        "id": "4FtLLAq5dwzC"
      },
      "source": [
        ""
      ],
      "execution_count": 14,
      "outputs": []
    }
  ]
}