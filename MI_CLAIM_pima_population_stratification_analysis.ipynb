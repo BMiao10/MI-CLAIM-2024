{
  "nbformat": 4,
  "nbformat_minor": 0,
  "metadata": {
    "colab": {
      "name": "MI_CLAIM_pima_population_stratification_analysis.ipynb",
      "provenance": []
    },
    "kernelspec": {
      "display_name": "Python 3",
      "language": "python",
      "name": "python3"
    },
    "language_info": {
      "codemirror_mode": {
        "name": "ipython",
        "version": 3
      },
      "file_extension": ".py",
      "mimetype": "text/x-python",
      "name": "python",
      "nbconvert_exporter": "python",
      "pygments_lexer": "ipython3",
      "version": "3.7.3"
    }
  },
  "cells": [
    {
      "cell_type": "code",
      "metadata": {
        "id": "aZiCvVmgsvgi"
      },
      "source": [
        "import pandas as pd\n",
        "import numpy as np\n",
        "from scipy import stats\n",
        "from matplotlib import pyplot as plt"
      ],
      "execution_count": 1,
      "outputs": []
    },
    {
      "cell_type": "markdown",
      "metadata": {
        "id": "5po46vN4h2GH"
      },
      "source": [
        "# Get and Load the Pima Indians Diabetes dataset\n",
        "\n",
        "We download the data from an nrvis repository. And we load it into a pandas dataframe."
      ]
    },
    {
      "cell_type": "code",
      "metadata": {
        "colab": {
          "base_uri": "https://localhost:8080/"
        },
        "id": "jeaaic7atmQM",
        "outputId": "d600fd2b-ff2e-4013-f54e-3fae32a5e502"
      },
      "source": [
        "!wget http://nrvis.com/data/mldata/pima-indians-diabetes.csv"
      ],
      "execution_count": 2,
      "outputs": [
        {
          "output_type": "stream",
          "text": [
            "--2021-01-08 22:04:00--  http://nrvis.com/data/mldata/pima-indians-diabetes.csv\n",
            "Resolving nrvis.com (nrvis.com)... 173.236.176.48\n",
            "Connecting to nrvis.com (nrvis.com)|173.236.176.48|:80... connected.\n",
            "HTTP request sent, awaiting response... 200 OK\n",
            "Length: 23279 (23K) [text/csv]\n",
            "Saving to: ‘pima-indians-diabetes.csv.3’\n",
            "\n",
            "\r          pima-indi   0%[                    ]       0  --.-KB/s               \rpima-indians-diabet 100%[===================>]  22.73K  --.-KB/s    in 0.02s   \n",
            "\n",
            "2021-01-08 22:04:00 (1.16 MB/s) - ‘pima-indians-diabetes.csv.3’ saved [23279/23279]\n",
            "\n"
          ],
          "name": "stdout"
        }
      ]
    },
    {
      "cell_type": "code",
      "metadata": {
        "id": "m3GhrO9etovc"
      },
      "source": [
        "df = pd.read_csv('pima-indians-diabetes.csv',header=None)\n",
        "# 0. Number of times pregnant\n",
        "# 1. Plasma glucose concentration a 2 hours in an oral glucose tolerance test\n",
        "# 2. Diastolic blood pressure (mm Hg)\n",
        "# 3. Triceps skin fold thickness (mm)\n",
        "# 4. 2-Hour serum insulin (mu U/ml)\n",
        "# 5. Body mass index (weight in kg/(height in m)^2)\n",
        "# 6. Diabetes pedigree function\n",
        "# 7. Age (years)\n",
        "# 8. Class variable (0 or 1)\n",
        "df.columns = [\"NumTimesPrg\", \"PlGlcConc\", \"BloodP\", \"SkinThick\", \"TwoHourSerIns\", \"BMI\", \"DiPedFunc\", \"Age\", \"HasDiabetes\"]"
      ],
      "execution_count": 3,
      "outputs": []
    },
    {
      "cell_type": "markdown",
      "metadata": {
        "id": "Ww7NUqO_wRUL"
      },
      "source": [
        "--------------------------------------------------------------------"
      ]
    },
    {
      "cell_type": "markdown",
      "metadata": {
        "id": "E7TmPcrEpqtw"
      },
      "source": [
        "# Define Helper Functions"
      ]
    },
    {
      "cell_type": "code",
      "metadata": {
        "colab": {
          "base_uri": "https://localhost:8080/"
        },
        "id": "wu5IzSOyrjud",
        "outputId": "a5323755-a0da-4174-d1fa-232c6e47323d"
      },
      "source": [
        "from sklearn.model_selection import train_test_split\n",
        "from sklearn.metrics import accuracy_score, precision_recall_curve, classification_report, roc_auc_score\n",
        "import statsmodels.api as sm"
      ],
      "execution_count": 4,
      "outputs": [
        {
          "output_type": "stream",
          "text": [
            "/usr/local/lib/python3.6/dist-packages/statsmodels/tools/_testing.py:19: FutureWarning: pandas.util.testing is deprecated. Use the functions in the public API at pandas.testing instead.\n",
            "  import pandas.util.testing as tm\n"
          ],
          "name": "stderr"
        }
      ]
    },
    {
      "cell_type": "markdown",
      "metadata": {
        "id": "jAAI1EldpgFL"
      },
      "source": [
        "### Train using a Logistic Regression\n",
        "\n",
        "We use a simple Logistic Regression model to train our datasets"
      ]
    },
    {
      "cell_type": "code",
      "metadata": {
        "id": "3eyWG4F7pgbM"
      },
      "source": [
        "def train_lr(df_train):\n",
        "  X = df_train.iloc[:,range(8)]\n",
        "  Y = df_train.iloc[:,8]\n",
        "\n",
        "  X = sm.add_constant(X)\n",
        "\n",
        "  model = sm.Logit(Y, X).fit()\n",
        "\n",
        "  print(model.summary())\n",
        "\n",
        "  return model"
      ],
      "execution_count": 5,
      "outputs": []
    },
    {
      "cell_type": "markdown",
      "metadata": {
        "id": "MjPqUSIXqMP2"
      },
      "source": [
        "#### Predict and generate accuracry score\n",
        "\n",
        "We use our model to generate prediction probabilites (range 0-1) on our test dataset. We use prediction probability >= 0.5 to assess if the model predicts the individual has diabetes.\n",
        "\n",
        "We then compare if the individual actually had diabetes and generate an accurancy for our model."
      ]
    },
    {
      "cell_type": "code",
      "metadata": {
        "id": "PsOI3r-bqA4d"
      },
      "source": [
        "def predict_and_evaluate(df_test, model):\n",
        "  y_pred = model.predict(sm.add_constant(df_test.iloc[:,range(8)]))\n",
        "  y_pred.name='prediction'\n",
        "  res = pd.concat([df_test, y_pred],axis=1)\n",
        "\n",
        "  res['PredDiabetes'] = np.where(res['prediction'] >= 0.5, 1, 0)\n",
        "\n",
        "  acc = accuracy_score(res['HasDiabetes'], res['PredDiabetes'])\n",
        "  print('\\n')\n",
        "  print(f'Accuracy = {acc}')\n",
        "\n",
        "  print(classification_report(res['HasDiabetes'], res['PredDiabetes']))\n",
        "\n",
        "  roc_auc = roc_auc_score(res['HasDiabetes'], res['prediction'])\n",
        "  print(f'ROC AUC = {roc_auc}')\n",
        "\n",
        "  return res"
      ],
      "execution_count": 6,
      "outputs": []
    },
    {
      "cell_type": "markdown",
      "metadata": {
        "id": "yFdXzoNAedoj"
      },
      "source": [
        "#### Plot top-k confident and correct/incorrect\n",
        "\n",
        "We create side-by-side plots of the top-k samples where the model was confident in its prediction, with the first plot being most confident yet incorrect prediction and the second being the most confident and correct prediction.\n",
        "\n",
        "Such plots can be used to analyze which variables might be leading the model astray in extreme situations."
      ]
    },
    {
      "cell_type": "code",
      "metadata": {
        "id": "Fdzne3t2a6JC"
      },
      "source": [
        "def plot_topk(res, k=5):\n",
        "  fig, ax = plt.subplots(1,2,figsize=(10,6))\n",
        "  ((res.loc[res['HasDiabetes']==0].sort_values('prediction',ascending=False).head(k) - res.mean())/res.std()).iloc[:,range(8)].plot.bar(ax=ax[0],legend=False,title='confident and incorrect')\n",
        "  ((res.loc[res['HasDiabetes']==1].sort_values('prediction',ascending=False).head(k) - res.mean())/res.std()).iloc[:,range(8)].plot.bar(ax=ax[1],title='confident and correct')\n",
        "  plt.legend(loc='center left', bbox_to_anchor=(1.0, 0.5))\n",
        "  plt.show()"
      ],
      "execution_count": 7,
      "outputs": []
    },
    {
      "cell_type": "markdown",
      "metadata": {
        "id": "CMPlQW10rMyt"
      },
      "source": [
        "### Runner\n",
        "\n",
        "This function runs our training and testing"
      ]
    },
    {
      "cell_type": "code",
      "metadata": {
        "id": "qFD6FOtXqbC2"
      },
      "source": [
        "def train_and_test(df_train, df_test):\n",
        "  model = train_lr(df_train)\n",
        "  res = predict_and_evaluate(df_test, model)\n",
        "  plot_topk(res)"
      ],
      "execution_count": 8,
      "outputs": []
    },
    {
      "cell_type": "markdown",
      "metadata": {
        "id": "SIPTRFL-wTtG"
      },
      "source": [
        "--------------------------------------------------------------------"
      ]
    },
    {
      "cell_type": "markdown",
      "metadata": {
        "id": "5CBXNyKuggsf"
      },
      "source": [
        "# Baseline\n",
        "\n",
        "We train a baseline LR model without any straifications on the features"
      ]
    },
    {
      "cell_type": "code",
      "metadata": {
        "colab": {
          "base_uri": "https://localhost:8080/",
          "height": 1000
        },
        "id": "5UaVhSRGvn3D",
        "outputId": "e1306ed4-c02c-4873-899d-271cf8875648"
      },
      "source": [
        "df_train, df_test = train_test_split(df,test_size=0.2, random_state=0)\n",
        "\n",
        "train_and_test(df_train, df_test)"
      ],
      "execution_count": 9,
      "outputs": [
        {
          "output_type": "stream",
          "text": [
            "Optimization terminated successfully.\n",
            "         Current function value: 0.483040\n",
            "         Iterations 6\n",
            "                           Logit Regression Results                           \n",
            "==============================================================================\n",
            "Dep. Variable:            HasDiabetes   No. Observations:                  614\n",
            "Model:                          Logit   Df Residuals:                      605\n",
            "Method:                           MLE   Df Model:                            8\n",
            "Date:                Fri, 08 Jan 2021   Pseudo R-squ.:                  0.2607\n",
            "Time:                        22:04:01   Log-Likelihood:                -296.59\n",
            "converged:                       True   LL-Null:                       -401.18\n",
            "Covariance Type:            nonrobust   LLR p-value:                 7.418e-41\n",
            "=================================================================================\n",
            "                    coef    std err          z      P>|z|      [0.025      0.975]\n",
            "---------------------------------------------------------------------------------\n",
            "const            -8.1937      0.780    -10.507      0.000      -9.722      -6.665\n",
            "NumTimesPrg       0.0914      0.034      2.664      0.008       0.024       0.159\n",
            "PlGlcConc         0.0339      0.004      8.224      0.000       0.026       0.042\n",
            "BloodP           -0.0137      0.006     -2.369      0.018      -0.025      -0.002\n",
            "SkinThick         0.0044      0.008      0.569      0.569      -0.011       0.020\n",
            "TwoHourSerIns    -0.0014      0.001     -1.443      0.149      -0.003       0.001\n",
            "BMI               0.0880      0.017      5.313      0.000       0.056       0.120\n",
            "DiPedFunc         0.8960      0.332      2.700      0.007       0.246       1.547\n",
            "Age               0.0199      0.010      1.931      0.054      -0.000       0.040\n",
            "=================================================================================\n",
            "\n",
            "\n",
            "Accuracy = 0.8246753246753247\n",
            "              precision    recall  f1-score   support\n",
            "\n",
            "           0       0.84      0.92      0.88       107\n",
            "           1       0.76      0.62      0.68        47\n",
            "\n",
            "    accuracy                           0.82       154\n",
            "   macro avg       0.80      0.77      0.78       154\n",
            "weighted avg       0.82      0.82      0.82       154\n",
            "\n",
            "ROC AUC = 0.8667727182342414\n"
          ],
          "name": "stdout"
        },
        {
          "output_type": "display_data",
          "data": {
            "image/png": "[encoded data removed]",
            "text/plain": [
              "<Figure size 720x432 with 2 Axes>"
            ]
          },
          "metadata": {
            "tags": [],
            "needs_background": "light"
          }
        }
      ]
    },
    {
      "cell_type": "markdown",
      "metadata": {
        "id": "z1G17owjwlMW"
      },
      "source": [
        "We find our simple Logistic Regression model performs decently well at predicting diabetes among this population"
      ]
    },
    {
      "cell_type": "markdown",
      "metadata": {
        "id": "848opESAwcMy"
      },
      "source": [
        "--------------------------------------------------------------------"
      ]
    },
    {
      "cell_type": "markdown",
      "metadata": {
        "id": "259Lzyi8oUer"
      },
      "source": [
        "# Straification on Subpopulations\n",
        "\n",
        "Now we judge the model's accuracy on different stratifications of the features. We choose 3 subpopulations based on younger/older age and healthy/unhealthy BMI, as they demonstrate good predictive power from the baseline model:\n",
        "\n",
        "1 - Younger (Age < 40) and non-obese BMI (BMI < 30)\n",
        "\n",
        "2 - Younger (Age < 40) and obese BMI (BMI >= 30)\n",
        "\n",
        "3 - Obese BMI only (BMI >= 30)\n",
        "\n",
        "\n",
        "We also confirm these subpopulations have sufficient counts (~ >100) to avoid too few data points during training and testing"
      ]
    },
    {
      "cell_type": "code",
      "metadata": {
        "colab": {
          "base_uri": "https://localhost:8080/"
        },
        "id": "7yrGgVw7mVf9",
        "outputId": "80d651de-4b80-4bd9-a976-f9f679df4954"
      },
      "source": [
        "pop1_df = df[(df['Age'] < 40) & (df['BMI'] < 30)]\n",
        "pop2_df = df[(df['Age'] < 40) & (df['BMI'] >= 30)]\n",
        "pop3_df = df[(df['BMI'] >= 25)]\n",
        "\n",
        "print(len(pop1_df))\n",
        "print(len(pop2_df))\n",
        "print(len(pop3_df))"
      ],
      "execution_count": 10,
      "outputs": [
        {
          "output_type": "stream",
          "text": [
            "230\n",
            "331\n",
            "651\n"
          ],
          "name": "stdout"
        }
      ]
    },
    {
      "cell_type": "markdown",
      "metadata": {
        "id": "U3D5IH_ptoPJ"
      },
      "source": [
        "# Stratification #1"
      ]
    },
    {
      "cell_type": "code",
      "metadata": {
        "colab": {
          "base_uri": "https://localhost:8080/",
          "height": 1000
        },
        "id": "FiRReMtrsbgy",
        "outputId": "a9e3821a-dc51-47f5-d5e7-eee2ebd8ea9d"
      },
      "source": [
        "pop1_df_train, pop1_df_test = train_test_split(pop1_df, test_size=0.2, random_state=0)\n",
        "\n",
        "train_and_test(pop1_df_train, pop1_df_test)"
      ],
      "execution_count": 11,
      "outputs": [
        {
          "output_type": "stream",
          "text": [
            "Optimization terminated successfully.\n",
            "         Current function value: 0.197116\n",
            "         Iterations 8\n",
            "                           Logit Regression Results                           \n",
            "==============================================================================\n",
            "Dep. Variable:            HasDiabetes   No. Observations:                  184\n",
            "Model:                          Logit   Df Residuals:                      175\n",
            "Method:                           MLE   Df Model:                            8\n",
            "Date:                Fri, 08 Jan 2021   Pseudo R-squ.:                  0.4066\n",
            "Time:                        22:04:01   Log-Likelihood:                -36.269\n",
            "converged:                       True   LL-Null:                       -61.123\n",
            "Covariance Type:            nonrobust   LLR p-value:                 4.652e-08\n",
            "=================================================================================\n",
            "                    coef    std err          z      P>|z|      [0.025      0.975]\n",
            "---------------------------------------------------------------------------------\n",
            "const           -10.3614      2.652     -3.906      0.000     -15.560      -5.163\n",
            "NumTimesPrg       0.6308      0.182      3.464      0.001       0.274       0.988\n",
            "PlGlcConc         0.0567      0.015      3.701      0.000       0.027       0.087\n",
            "BloodP           -0.0246      0.014     -1.773      0.076      -0.052       0.003\n",
            "SkinThick         0.0009      0.029      0.030      0.976      -0.056       0.058\n",
            "TwoHourSerIns    -0.0058      0.005     -1.154      0.249      -0.016       0.004\n",
            "BMI               0.0897      0.067      1.334      0.182      -0.042       0.221\n",
            "DiPedFunc         1.9804      1.108      1.788      0.074      -0.191       4.152\n",
            "Age              -0.0896      0.080     -1.115      0.265      -0.247       0.068\n",
            "=================================================================================\n",
            "\n",
            "\n",
            "Accuracy = 0.8478260869565217\n",
            "              precision    recall  f1-score   support\n",
            "\n",
            "           0       0.86      0.97      0.92        39\n",
            "           1       0.50      0.14      0.22         7\n",
            "\n",
            "    accuracy                           0.85        46\n",
            "   macro avg       0.68      0.56      0.57        46\n",
            "weighted avg       0.81      0.85      0.81        46\n",
            "\n",
            "ROC AUC = 0.6813186813186812\n"
          ],
          "name": "stdout"
        },
        {
          "output_type": "display_data",
          "data": {
            "image/png": "[encoded data removed]",
            "text/plain": [
              "<Figure size 720x432 with 2 Axes>"
            ]
          },
          "metadata": {
            "tags": [],
            "needs_background": "light"
          }
        }
      ]
    },
    {
      "cell_type": "markdown",
      "metadata": {
        "id": "bi8Bsz4atsHu"
      },
      "source": [
        "# Stratification #2"
      ]
    },
    {
      "cell_type": "code",
      "metadata": {
        "colab": {
          "base_uri": "https://localhost:8080/",
          "height": 1000
        },
        "id": "j5L-qN84sqPJ",
        "outputId": "7dfafd97-9c0b-49ce-8b6a-5dc10ce925f8"
      },
      "source": [
        "pop2_df_train, pop2_df_test = train_test_split(pop2_df, test_size=0.2, random_state=0)\n",
        "\n",
        "train_and_test(pop2_df_train, pop2_df_test)"
      ],
      "execution_count": 12,
      "outputs": [
        {
          "output_type": "stream",
          "text": [
            "Optimization terminated successfully.\n",
            "         Current function value: 0.489300\n",
            "         Iterations 6\n",
            "                           Logit Regression Results                           \n",
            "==============================================================================\n",
            "Dep. Variable:            HasDiabetes   No. Observations:                  264\n",
            "Model:                          Logit   Df Residuals:                      255\n",
            "Method:                           MLE   Df Model:                            8\n",
            "Date:                Fri, 08 Jan 2021   Pseudo R-squ.:                  0.2736\n",
            "Time:                        22:04:02   Log-Likelihood:                -129.18\n",
            "converged:                       True   LL-Null:                       -177.84\n",
            "Covariance Type:            nonrobust   LLR p-value:                 1.504e-17\n",
            "=================================================================================\n",
            "                    coef    std err          z      P>|z|      [0.025      0.975]\n",
            "---------------------------------------------------------------------------------\n",
            "const            -7.7150      1.589     -4.855      0.000     -10.830      -4.600\n",
            "NumTimesPrg      -0.0660      0.075     -0.878      0.380      -0.213       0.081\n",
            "PlGlcConc         0.0389      0.006      6.059      0.000       0.026       0.052\n",
            "BloodP           -0.0320      0.011     -2.917      0.004      -0.054      -0.011\n",
            "SkinThick        -0.0065      0.011     -0.584      0.559      -0.028       0.015\n",
            "TwoHourSerIns    -0.0040      0.002     -2.614      0.009      -0.007      -0.001\n",
            "BMI               0.0408      0.030      1.344      0.179      -0.019       0.100\n",
            "DiPedFunc         1.8126      0.521      3.478      0.001       0.791       2.834\n",
            "Age               0.1077      0.040      2.686      0.007       0.029       0.186\n",
            "=================================================================================\n",
            "\n",
            "\n",
            "Accuracy = 0.7164179104477612\n",
            "              precision    recall  f1-score   support\n",
            "\n",
            "           0       0.72      0.85      0.78        39\n",
            "           1       0.71      0.54      0.61        28\n",
            "\n",
            "    accuracy                           0.72        67\n",
            "   macro avg       0.72      0.69      0.69        67\n",
            "weighted avg       0.72      0.72      0.71        67\n",
            "\n",
            "ROC AUC = 0.8177655677655677\n"
          ],
          "name": "stdout"
        },
        {
          "output_type": "display_data",
          "data": {
            "image/png": "[encoded data removed]",
            "text/plain": [
              "<Figure size 720x432 with 2 Axes>"
            ]
          },
          "metadata": {
            "tags": [],
            "needs_background": "light"
          }
        }
      ]
    },
    {
      "cell_type": "markdown",
      "metadata": {
        "id": "sELDrIX_ttRk"
      },
      "source": [
        "# Stratification #3"
      ]
    },
    {
      "cell_type": "code",
      "metadata": {
        "colab": {
          "base_uri": "https://localhost:8080/",
          "height": 1000
        },
        "id": "GBNshpVtsyeW",
        "outputId": "96ff6110-1f1b-4069-d15e-50d1dbeb85cc"
      },
      "source": [
        "pop3_df_train, pop3_df_test = train_test_split(pop3_df, test_size=0.2, random_state=0)\n",
        "\n",
        "train_and_test(pop3_df_train, pop3_df_test)"
      ],
      "execution_count": 13,
      "outputs": [
        {
          "output_type": "stream",
          "text": [
            "Optimization terminated successfully.\n",
            "         Current function value: 0.501729\n",
            "         Iterations 6\n",
            "                           Logit Regression Results                           \n",
            "==============================================================================\n",
            "Dep. Variable:            HasDiabetes   No. Observations:                  520\n",
            "Model:                          Logit   Df Residuals:                      511\n",
            "Method:                           MLE   Df Model:                            8\n",
            "Date:                Fri, 08 Jan 2021   Pseudo R-squ.:                  0.2527\n",
            "Time:                        22:04:03   Log-Likelihood:                -260.90\n",
            "converged:                       True   LL-Null:                       -349.14\n",
            "Covariance Type:            nonrobust   LLR p-value:                 5.642e-34\n",
            "=================================================================================\n",
            "                    coef    std err          z      P>|z|      [0.025      0.975]\n",
            "---------------------------------------------------------------------------------\n",
            "const            -8.3403      0.910     -9.162      0.000     -10.125      -6.556\n",
            "NumTimesPrg       0.1378      0.038      3.634      0.000       0.063       0.212\n",
            "PlGlcConc         0.0323      0.004      7.760      0.000       0.024       0.040\n",
            "BloodP           -0.0090      0.006     -1.466      0.143      -0.021       0.003\n",
            "SkinThick        -0.0062      0.008     -0.803      0.422      -0.021       0.009\n",
            "TwoHourSerIns    -0.0004      0.001     -0.387      0.699      -0.002       0.002\n",
            "BMI               0.0836      0.019      4.310      0.000       0.046       0.122\n",
            "DiPedFunc         1.1131      0.358      3.105      0.002       0.411       1.816\n",
            "Age               0.0197      0.011      1.754      0.079      -0.002       0.042\n",
            "=================================================================================\n",
            "\n",
            "\n",
            "Accuracy = 0.6717557251908397\n",
            "              precision    recall  f1-score   support\n",
            "\n",
            "           0       0.69      0.81      0.75        78\n",
            "           1       0.62      0.47      0.54        53\n",
            "\n",
            "    accuracy                           0.67       131\n",
            "   macro avg       0.66      0.64      0.64       131\n",
            "weighted avg       0.67      0.67      0.66       131\n",
            "\n",
            "ROC AUC = 0.7629414610546685\n"
          ],
          "name": "stdout"
        },
        {
          "output_type": "display_data",
          "data": {
            "image/png": "[encoded data removed]",
            "text/plain": [
              "<Figure size 720x432 with 2 Axes>"
            ]
          },
          "metadata": {
            "tags": [],
            "needs_background": "light"
          }
        }
      ]
    },
    {
      "cell_type": "markdown",
      "metadata": {
        "id": "59B2jizwtwBe"
      },
      "source": [
        "# Analysis of good stratifications\n",
        "\n",
        "We see from these examples that each chosen stratification generates Logistic Regression models that perform fairly well (70% to 100% accuracy).\n",
        "\n",
        "This indicates that stratifications of interesting features allows the model to have better (or similar) performance to the whole population (baseline) model."
      ]
    },
    {
      "cell_type": "markdown",
      "metadata": {
        "id": "b4iseH8TwHu9"
      },
      "source": [
        "--------------------------------------------------------------------"
      ]
    },
    {
      "cell_type": "markdown",
      "metadata": {
        "id": "CJfDMxwGwprv"
      },
      "source": [
        "# Analysis of bad stratifications\n",
        "\n",
        "Now we stratify on the same features but chooose cutoffs that are more extreme and less sensical to the problem (predicting diabetes)."
      ]
    },
    {
      "cell_type": "code",
      "metadata": {
        "colab": {
          "base_uri": "https://localhost:8080/",
          "height": 1000
        },
        "id": "Y7c8_Esis_Hi",
        "outputId": "516fa57f-bf66-4b4e-bf1d-d5c20e6628ff"
      },
      "source": [
        "bad_pop_df = df[(df['Age'] > 55) & (df['BMI'] > 27)]\n",
        "\n",
        "bad_pop_df_train, bad_pop_df_test = train_test_split(bad_pop_df, test_size=0.2, random_state=0)\n",
        "\n",
        "train_and_test(bad_pop_df_train, bad_pop_df_test)"
      ],
      "execution_count": 14,
      "outputs": [
        {
          "output_type": "stream",
          "text": [
            "/usr/local/lib/python3.6/dist-packages/statsmodels/discrete/discrete_model.py:1736: RuntimeWarning: overflow encountered in exp\n",
            "  return 1/(1+np.exp(-X))\n",
            "/usr/local/lib/python3.6/dist-packages/statsmodels/base/model.py:512: ConvergenceWarning: Maximum Likelihood optimization failed to converge. Check mle_retvals\n",
            "  \"Check mle_retvals\", ConvergenceWarning)\n"
          ],
          "name": "stderr"
        },
        {
          "output_type": "stream",
          "text": [
            "Warning: Maximum number of iterations has been exceeded.\n",
            "         Current function value: 0.000000\n",
            "         Iterations: 35\n",
            "                           Logit Regression Results                           \n",
            "==============================================================================\n",
            "Dep. Variable:            HasDiabetes   No. Observations:                   24\n",
            "Model:                          Logit   Df Residuals:                       15\n",
            "Method:                           MLE   Df Model:                            8\n",
            "Date:                Fri, 08 Jan 2021   Pseudo R-squ.:                   1.000\n",
            "Time:                        22:04:03   Log-Likelihood:            -6.2007e-07\n",
            "converged:                      False   LL-Null:                       -16.552\n",
            "Covariance Type:            nonrobust   LLR p-value:                 5.898e-05\n",
            "=================================================================================\n",
            "                    coef    std err          z      P>|z|      [0.025      0.975]\n",
            "---------------------------------------------------------------------------------\n",
            "const           841.0859   1.83e+05      0.005      0.996   -3.58e+05     3.6e+05\n",
            "NumTimesPrg     -74.3149   1.37e+04     -0.005      0.996    -2.7e+04    2.68e+04\n",
            "PlGlcConc         3.1506    650.666      0.005      0.996   -1272.131    1278.432\n",
            "BloodP            4.4536   1157.417      0.004      0.997   -2264.041    2272.948\n",
            "SkinThick         0.1785    300.031      0.001      1.000    -587.872     588.229\n",
            "TwoHourSerIns     0.5230    871.064      0.001      1.000   -1706.731    1707.777\n",
            "BMI              56.3775   1.06e+04      0.005      0.996   -2.08e+04    2.09e+04\n",
            "DiPedFunc       541.8952   9.17e+04      0.006      0.995   -1.79e+05     1.8e+05\n",
            "Age             -56.4879   1.12e+04     -0.005      0.996    -2.2e+04    2.19e+04\n",
            "=================================================================================\n",
            "\n",
            "Complete Separation: The results show that there iscomplete separation.\n",
            "In this case the Maximum Likelihood Estimator does not exist and the parameters\n",
            "are not identified.\n",
            "\n",
            "\n",
            "Accuracy = 0.42857142857142855\n",
            "              precision    recall  f1-score   support\n",
            "\n",
            "           0       0.60      0.60      0.60         5\n",
            "           1       0.00      0.00      0.00         2\n",
            "\n",
            "    accuracy                           0.43         7\n",
            "   macro avg       0.30      0.30      0.30         7\n",
            "weighted avg       0.43      0.43      0.43         7\n",
            "\n",
            "ROC AUC = 0.3\n"
          ],
          "name": "stdout"
        },
        {
          "output_type": "display_data",
          "data": {
            "image/png": "[encoded data removed]",
            "text/plain": [
              "<Figure size 720x432 with 2 Axes>"
            ]
          },
          "metadata": {
            "tags": [],
            "needs_background": "light"
          }
        }
      ]
    },
    {
      "cell_type": "markdown",
      "metadata": {
        "id": "Ru7W3kmKy3Yz"
      },
      "source": [
        "We see that the trained model does not perform well, and is even worse at predicting diabetes than chance."
      ]
    },
    {
      "cell_type": "markdown",
      "metadata": {
        "id": "a1ZD7L9X3N1U"
      },
      "source": [
        "# Summary"
      ]
    },
    {
      "cell_type": "markdown",
      "metadata": {
        "id": "tkcHpyLv9uFV"
      },
      "source": [
        "| Model | Accuracy | Precision | Recall | F1 score | ROC AUC |\n",
        "| :----:| :------: | :-------: | :-----:| :-------:| :-----: |\n",
        "|  Baseline   |  0.82   |   0.82   |  0.82  |   0.82   |   0.87  |\n",
        "|  Strat 1   |   0.85  |   0.81   |  0.85  |   0.81   |   0.68  |\n",
        "|  Strat 2 |   0.72 |   0.72  |  0.62  |  0.71    |   0.82  |\n",
        "|  Strat 3 |  0.71    |  0.71  | 0.71  |  0.71  |  0.81 |\n",
        "|  Bad Strat |  0.43    |  0.43  | 0.43  |  0.43  |  0.30 |"
      ]
    },
    {
      "cell_type": "code",
      "metadata": {
        "id": "zFI_NdMTAXa1"
      },
      "source": [
        ""
      ],
      "execution_count": 14,
      "outputs": []
    }
  ]
}