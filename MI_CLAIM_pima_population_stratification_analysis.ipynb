{
  "nbformat": 4,
  "nbformat_minor": 0,
  "metadata": {
    "colab": {
      "name": "MI_CLAIM_pima_population_stratification_analysis.ipynb",
      "provenance": []
    },
    "kernelspec": {
      "display_name": "Python 3",
      "language": "python",
      "name": "python3"
    },
    "language_info": {
      "codemirror_mode": {
        "name": "ipython",
        "version": 3
      },
      "file_extension": ".py",
      "mimetype": "text/x-python",
      "name": "python",
      "nbconvert_exporter": "python",
      "pygments_lexer": "ipython3",
      "version": "3.7.3"
    }
  },
  "cells": [
    {
      "cell_type": "code",
      "metadata": {
        "id": "aZiCvVmgsvgi"
      },
      "source": [
        "import pandas as pd\n",
        "import numpy as np\n",
        "from scipy import stats\n",
        "from matplotlib import pyplot as plt"
      ],
      "execution_count": 10,
      "outputs": []
    },
    {
      "cell_type": "markdown",
      "metadata": {
        "id": "5po46vN4h2GH"
      },
      "source": [
        "# Get and Load the Pima Indians Diabetes dataset\n",
        "\n",
        "We download the data from an nrvis repository. And we load it into a pandas dataframe."
      ]
    },
    {
      "cell_type": "code",
      "metadata": {
        "colab": {
          "base_uri": "https://localhost:8080/"
        },
        "id": "jeaaic7atmQM",
        "outputId": "17d242f0-6a31-4b8b-f424-8337525c9d8c"
      },
      "source": [
        "!wget http://nrvis.com/data/mldata/pima-indians-diabetes.csv"
      ],
      "execution_count": 11,
      "outputs": [
        {
          "output_type": "stream",
          "text": [
            "--2021-01-11 22:49:27--  http://nrvis.com/data/mldata/pima-indians-diabetes.csv\n",
            "Resolving nrvis.com (nrvis.com)... 173.236.176.48\n",
            "Connecting to nrvis.com (nrvis.com)|173.236.176.48|:80... connected.\n",
            "HTTP request sent, awaiting response... 200 OK\n",
            "Length: 23279 (23K) [text/csv]\n",
            "Saving to: ‘pima-indians-diabetes.csv.1’\n",
            "\n",
            "\r          pima-indi   0%[                    ]       0  --.-KB/s               \rpima-indians-diabet 100%[===================>]  22.73K  --.-KB/s    in 0.02s   \n",
            "\n",
            "2021-01-11 22:49:27 (1.15 MB/s) - ‘pima-indians-diabetes.csv.1’ saved [23279/23279]\n",
            "\n"
          ],
          "name": "stdout"
        }
      ]
    },
    {
      "cell_type": "code",
      "metadata": {
        "id": "m3GhrO9etovc"
      },
      "source": [
        "df = pd.read_csv('pima-indians-diabetes.csv',header=None)\n",
        "# 0. Number of times pregnant\n",
        "# 1. Plasma glucose concentration a 2 hours in an oral glucose tolerance test\n",
        "# 2. Diastolic blood pressure (mm Hg)\n",
        "# 3. Triceps skin fold thickness (mm)\n",
        "# 4. 2-Hour serum insulin (mu U/ml)\n",
        "# 5. Body mass index (weight in kg/(height in m)^2)\n",
        "# 6. Diabetes pedigree function\n",
        "# 7. Age (years)\n",
        "# 8. Class variable (0 or 1)\n",
        "df.columns = [\"NumTimesPrg\", \"PlGlcConc\", \"BloodP\", \"SkinThick\", \"TwoHourSerIns\", \"BMI\", \"DiPedFunc\", \"Age\", \"HasDiabetes\"]"
      ],
      "execution_count": 12,
      "outputs": []
    },
    {
      "cell_type": "markdown",
      "metadata": {
        "id": "Ww7NUqO_wRUL"
      },
      "source": [
        "--------------------------------------------------------------------"
      ]
    },
    {
      "cell_type": "markdown",
      "metadata": {
        "id": "E7TmPcrEpqtw"
      },
      "source": [
        "# Define Helper Functions"
      ]
    },
    {
      "cell_type": "code",
      "metadata": {
        "id": "wu5IzSOyrjud"
      },
      "source": [
        "from sklearn.model_selection import train_test_split\n",
        "from sklearn.metrics import accuracy_score, precision_recall_curve, classification_report, roc_auc_score\n",
        "import statsmodels.api as sm"
      ],
      "execution_count": 13,
      "outputs": []
    },
    {
      "cell_type": "markdown",
      "metadata": {
        "id": "jAAI1EldpgFL"
      },
      "source": [
        "### Train using a Logistic Regression\n",
        "\n",
        "We use a simple Logistic Regression model to train our datasets"
      ]
    },
    {
      "cell_type": "code",
      "metadata": {
        "id": "3eyWG4F7pgbM"
      },
      "source": [
        "def train_lr(df_train):\n",
        "  X = df_train.iloc[:,range(8)]\n",
        "  Y = df_train.iloc[:,8]\n",
        "\n",
        "  X = sm.add_constant(X)\n",
        "\n",
        "  model = sm.Logit(Y, X).fit()\n",
        "\n",
        "  print(model.summary())\n",
        "\n",
        "  return model"
      ],
      "execution_count": 14,
      "outputs": []
    },
    {
      "cell_type": "markdown",
      "metadata": {
        "id": "MjPqUSIXqMP2"
      },
      "source": [
        "#### Predict and generate accuracry score\n",
        "\n",
        "We use our model to generate prediction probabilites (range 0-1) on our test dataset. We use prediction probability >= 0.5 to assess if the model predicts the individual has diabetes.\n",
        "\n",
        "We then compare if the individual actually had diabetes and generate an accurancy for our model."
      ]
    },
    {
      "cell_type": "code",
      "metadata": {
        "id": "PsOI3r-bqA4d"
      },
      "source": [
        "def predict_and_evaluate(df_test, model):\n",
        "  y_pred = model.predict(sm.add_constant(df_test.iloc[:,range(8)]))\n",
        "  y_pred.name='prediction'\n",
        "  res = pd.concat([df_test, y_pred],axis=1)\n",
        "\n",
        "  res['PredDiabetes'] = np.where(res['prediction'] >= 0.5, 1, 0)\n",
        "\n",
        "  acc = accuracy_score(res['HasDiabetes'], res['PredDiabetes'])\n",
        "  print('\\n')\n",
        "  print(f'Accuracy = {acc}')\n",
        "\n",
        "  print(classification_report(res['HasDiabetes'], res['PredDiabetes']))\n",
        "\n",
        "  roc_auc = roc_auc_score(res['HasDiabetes'], res['prediction'])\n",
        "  print(f'ROC AUC = {roc_auc}')\n",
        "\n",
        "  return res"
      ],
      "execution_count": 15,
      "outputs": []
    },
    {
      "cell_type": "markdown",
      "metadata": {
        "id": "yFdXzoNAedoj"
      },
      "source": [
        "#### Plot top-k confident and correct/incorrect\n",
        "\n",
        "We create side-by-side plots of the top-k samples where the model was confident in its prediction, with the first plot being most confident yet incorrect prediction and the second being the most confident and correct prediction.\n",
        "\n",
        "Such plots can be used to analyze which variables might be leading the model astray in extreme situations."
      ]
    },
    {
      "cell_type": "code",
      "metadata": {
        "id": "Fdzne3t2a6JC"
      },
      "source": [
        "def plot_topk(res, k=5):\n",
        "  fig, ax = plt.subplots(1,2,figsize=(10,6))\n",
        "  ((res.loc[res['HasDiabetes']==0].sort_values('prediction',ascending=False).head(k) - res.mean())/res.std()).iloc[:,range(8)].plot.bar(ax=ax[0],legend=False,title='confident and incorrect')\n",
        "  ((res.loc[res['HasDiabetes']==1].sort_values('prediction',ascending=False).head(k) - res.mean())/res.std()).iloc[:,range(8)].plot.bar(ax=ax[1],title='confident and correct')\n",
        "  plt.legend(loc='center left', bbox_to_anchor=(1.0, 0.5))\n",
        "  plt.show()"
      ],
      "execution_count": 16,
      "outputs": []
    },
    {
      "cell_type": "markdown",
      "metadata": {
        "id": "SIPTRFL-wTtG"
      },
      "source": [
        "--------------------------------------------------------------------"
      ]
    },
    {
      "cell_type": "markdown",
      "metadata": {
        "id": "5CBXNyKuggsf"
      },
      "source": [
        "# Baseline\n",
        "\n",
        "We train a baseline LR model and test without any popuation straifications"
      ]
    },
    {
      "cell_type": "code",
      "metadata": {
        "colab": {
          "base_uri": "https://localhost:8080/",
          "height": 1000
        },
        "id": "5UaVhSRGvn3D",
        "outputId": "b3de032e-6f6c-4696-c177-a0a968aabb4c"
      },
      "source": [
        "df_train, df_test = train_test_split(df,test_size=0.2, random_state=0)\n",
        "model = train_lr(df_train)\n",
        "\n",
        "res = predict_and_evaluate(df_test, model)\n",
        "plot_topk(res)"
      ],
      "execution_count": 19,
      "outputs": [
        {
          "output_type": "stream",
          "text": [
            "Optimization terminated successfully.\n",
            "         Current function value: 0.483040\n",
            "         Iterations 6\n",
            "                           Logit Regression Results                           \n",
            "==============================================================================\n",
            "Dep. Variable:            HasDiabetes   No. Observations:                  614\n",
            "Model:                          Logit   Df Residuals:                      605\n",
            "Method:                           MLE   Df Model:                            8\n",
            "Date:                Mon, 11 Jan 2021   Pseudo R-squ.:                  0.2607\n",
            "Time:                        22:49:50   Log-Likelihood:                -296.59\n",
            "converged:                       True   LL-Null:                       -401.18\n",
            "Covariance Type:            nonrobust   LLR p-value:                 7.418e-41\n",
            "=================================================================================\n",
            "                    coef    std err          z      P>|z|      [0.025      0.975]\n",
            "---------------------------------------------------------------------------------\n",
            "const            -8.1937      0.780    -10.507      0.000      -9.722      -6.665\n",
            "NumTimesPrg       0.0914      0.034      2.664      0.008       0.024       0.159\n",
            "PlGlcConc         0.0339      0.004      8.224      0.000       0.026       0.042\n",
            "BloodP           -0.0137      0.006     -2.369      0.018      -0.025      -0.002\n",
            "SkinThick         0.0044      0.008      0.569      0.569      -0.011       0.020\n",
            "TwoHourSerIns    -0.0014      0.001     -1.443      0.149      -0.003       0.001\n",
            "BMI               0.0880      0.017      5.313      0.000       0.056       0.120\n",
            "DiPedFunc         0.8960      0.332      2.700      0.007       0.246       1.547\n",
            "Age               0.0199      0.010      1.931      0.054      -0.000       0.040\n",
            "=================================================================================\n",
            "\n",
            "\n",
            "Accuracy = 0.8246753246753247\n",
            "              precision    recall  f1-score   support\n",
            "\n",
            "           0       0.84      0.92      0.88       107\n",
            "           1       0.76      0.62      0.68        47\n",
            "\n",
            "    accuracy                           0.82       154\n",
            "   macro avg       0.80      0.77      0.78       154\n",
            "weighted avg       0.82      0.82      0.82       154\n",
            "\n",
            "ROC AUC = 0.8667727182342414\n"
          ],
          "name": "stdout"
        },
        {
          "output_type": "display_data",
          "data": {
            "image/png": "[encoded data removed]",
            "text/plain": [
              "<Figure size 720x432 with 2 Axes>"
            ]
          },
          "metadata": {
            "tags": [],
            "needs_background": "light"
          }
        }
      ]
    },
    {
      "cell_type": "markdown",
      "metadata": {
        "id": "z1G17owjwlMW"
      },
      "source": [
        "We find our simple Logistic Regression model performs decently well at predicting diabetes among the full population"
      ]
    },
    {
      "cell_type": "markdown",
      "metadata": {
        "id": "848opESAwcMy"
      },
      "source": [
        "--------------------------------------------------------------------"
      ]
    },
    {
      "cell_type": "markdown",
      "metadata": {
        "id": "259Lzyi8oUer"
      },
      "source": [
        "# Straification on Subpopulations\n",
        "\n",
        "Now we test the model on different population stratifications. We choose 4 subpopulations based on younger/older age and never/have been pregnant:\n",
        "\n",
        "1 - Younger (Age < 30) and never been pregnant (NumTimesPrg == 0)\n",
        "\n",
        "2 - Younger (Age < 30) and have been pregnant (NumTimesPrg >= 1)\n",
        "\n",
        "3 - Older only (Age >= 65)\n",
        "\n",
        "4 - Mid-Older (Age > 45) and never been pregnant (NumTimesPrg == 0)\n",
        "\n",
        "Subpopulation 4 was intentionally chosen to produce bad model evaluation metrics."
      ]
    },
    {
      "cell_type": "code",
      "metadata": {
        "id": "7yrGgVw7mVf9"
      },
      "source": [
        "# Good population stratifications\n",
        "df_test_strat1 = df[(df['Age'] < 30) & (df['NumTimesPrg'] == 0)]\n",
        "df_test_strat2 = df[(df['Age'] < 30) & (df['NumTimesPrg'] >= 1)]\n",
        "df_test_strat3 = df[(df['Age'] >= 65)]\n",
        "# Bad population stratifications\n",
        "df_test_strat4 = df[(df['Age'] > 45) & (df['NumTimesPrg'] == 0)]"
      ],
      "execution_count": 230,
      "outputs": []
    },
    {
      "cell_type": "markdown",
      "metadata": {
        "id": "U3D5IH_ptoPJ"
      },
      "source": [
        "# Stratification #1"
      ]
    },
    {
      "cell_type": "code",
      "metadata": {
        "colab": {
          "base_uri": "https://localhost:8080/",
          "height": 624
        },
        "id": "FiRReMtrsbgy",
        "outputId": "ee60bc7e-d8f3-487e-c355-7d4306b8bf5a"
      },
      "source": [
        "res = predict_and_evaluate(df_test_strat1, model)\n",
        "plot_topk(res)"
      ],
      "execution_count": 231,
      "outputs": [
        {
          "output_type": "stream",
          "text": [
            "\n",
            "\n",
            "Accuracy = 0.8390804597701149\n",
            "              precision    recall  f1-score   support\n",
            "\n",
            "           0       0.85      0.93      0.89        61\n",
            "           1       0.80      0.62      0.70        26\n",
            "\n",
            "    accuracy                           0.84        87\n",
            "   macro avg       0.83      0.77      0.79        87\n",
            "weighted avg       0.84      0.84      0.83        87\n",
            "\n",
            "ROC AUC = 0.907313997477932\n"
          ],
          "name": "stdout"
        },
        {
          "output_type": "display_data",
          "data": {
            "image/png": "[encoded data removed]",
            "text/plain": [
              "<Figure size 720x432 with 2 Axes>"
            ]
          },
          "metadata": {
            "tags": [],
            "needs_background": "light"
          }
        }
      ]
    },
    {
      "cell_type": "markdown",
      "metadata": {
        "id": "bi8Bsz4atsHu"
      },
      "source": [
        "# Stratification #2"
      ]
    },
    {
      "cell_type": "code",
      "metadata": {
        "colab": {
          "base_uri": "https://localhost:8080/",
          "height": 624
        },
        "id": "j5L-qN84sqPJ",
        "outputId": "d10edbbf-9be4-45ec-8a0f-4ee9add0f0a2"
      },
      "source": [
        "res = predict_and_evaluate(df_test_strat2, model)\n",
        "plot_topk(res)"
      ],
      "execution_count": 226,
      "outputs": [
        {
          "output_type": "stream",
          "text": [
            "\n",
            "\n",
            "Accuracy = 0.86084142394822\n",
            "              precision    recall  f1-score   support\n",
            "\n",
            "           0       0.89      0.95      0.92       251\n",
            "           1       0.68      0.48      0.57        58\n",
            "\n",
            "    accuracy                           0.86       309\n",
            "   macro avg       0.79      0.72      0.74       309\n",
            "weighted avg       0.85      0.86      0.85       309\n",
            "\n",
            "ROC AUC = 0.8607638411869762\n"
          ],
          "name": "stdout"
        },
        {
          "output_type": "display_data",
          "data": {
            "image/png": "[encoded data removed]",
            "text/plain": [
              "<Figure size 720x432 with 2 Axes>"
            ]
          },
          "metadata": {
            "tags": [],
            "needs_background": "light"
          }
        }
      ]
    },
    {
      "cell_type": "markdown",
      "metadata": {
        "id": "sELDrIX_ttRk"
      },
      "source": [
        "# Stratification #3"
      ]
    },
    {
      "cell_type": "code",
      "metadata": {
        "colab": {
          "base_uri": "https://localhost:8080/",
          "height": 624
        },
        "id": "GBNshpVtsyeW",
        "outputId": "1d85abfa-ec28-471d-adba-b0e056fb9094"
      },
      "source": [
        "res = predict_and_evaluate(df_test_strat3, model)\n",
        "plot_topk(res)"
      ],
      "execution_count": 227,
      "outputs": [
        {
          "output_type": "stream",
          "text": [
            "\n",
            "\n",
            "Accuracy = 0.6875\n",
            "              precision    recall  f1-score   support\n",
            "\n",
            "           0       1.00      0.58      0.74        12\n",
            "           1       0.44      1.00      0.62         4\n",
            "\n",
            "    accuracy                           0.69        16\n",
            "   macro avg       0.72      0.79      0.68        16\n",
            "weighted avg       0.86      0.69      0.71        16\n",
            "\n",
            "ROC AUC = 0.8750000000000001\n"
          ],
          "name": "stdout"
        },
        {
          "output_type": "display_data",
          "data": {
            "image/png": "[encoded data removed]",
            "text/plain": [
              "<Figure size 720x432 with 2 Axes>"
            ]
          },
          "metadata": {
            "tags": [],
            "needs_background": "light"
          }
        }
      ]
    },
    {
      "cell_type": "markdown",
      "metadata": {
        "id": "59B2jizwtwBe"
      },
      "source": [
        "# Analysis of good stratifications\n",
        "\n",
        "We see from these examples that each chosen stratification generates Logistic Regression models that perform fairly well (~70% to 85% accuracy) and high Receiver Operating Characteristic Area Under Curve (ROC AUC). \n",
        "\n",
        "The bar-plots indicate that certain features are good performers in pushing the model towards the correct prediction (PlGlcConc, BMI). DiPedFunc (a value related to pedigree) is very important in correct predictions for younger subpopulations, but this effect starts to diminish for older subpopulations.\n",
        "\n",
        "These results indicate that population stratifications of interesting features allows the model to have similar to better test performance on models trained on the whole population."
      ]
    },
    {
      "cell_type": "markdown",
      "metadata": {
        "id": "b4iseH8TwHu9"
      },
      "source": [
        "--------------------------------------------------------------------"
      ]
    },
    {
      "cell_type": "markdown",
      "metadata": {
        "id": "CJfDMxwGwprv"
      },
      "source": [
        "# Analysis of bad stratifications\n",
        "\n",
        "Now we evaluate on the fourth stratification, which was intentionally chosen to produce poor results"
      ]
    },
    {
      "cell_type": "code",
      "metadata": {
        "colab": {
          "base_uri": "https://localhost:8080/",
          "height": 624
        },
        "id": "Y7c8_Esis_Hi",
        "outputId": "6f8e30a6-87d6-418b-bcc8-ba04674aa59c"
      },
      "source": [
        "res = predict_and_evaluate(df_test_strat4, model)\n",
        "plot_topk(res)"
      ],
      "execution_count": 233,
      "outputs": [
        {
          "output_type": "stream",
          "text": [
            "\n",
            "\n",
            "Accuracy = 0.5\n",
            "              precision    recall  f1-score   support\n",
            "\n",
            "           0       0.67      0.67      0.67         6\n",
            "           1       0.00      0.00      0.00         2\n",
            "\n",
            "    accuracy                           0.50         8\n",
            "   macro avg       0.33      0.33      0.33         8\n",
            "weighted avg       0.50      0.50      0.50         8\n",
            "\n",
            "ROC AUC = 0.5833333333333334\n"
          ],
          "name": "stdout"
        },
        {
          "output_type": "display_data",
          "data": {
            "image/png": "[encoded data removed]",
            "text/plain": [
              "<Figure size 720x432 with 2 Axes>"
            ]
          },
          "metadata": {
            "tags": [],
            "needs_background": "light"
          }
        }
      ]
    },
    {
      "cell_type": "markdown",
      "metadata": {
        "id": "Ru7W3kmKy3Yz"
      },
      "source": [
        "We see that the trained model does not perform well, with an accuracy similar to random unweighted chance. In this subpopulation, there is greater disparity in which features helped produce the correct outcomes."
      ]
    },
    {
      "cell_type": "markdown",
      "metadata": {
        "id": "a1ZD7L9X3N1U"
      },
      "source": [
        "# Summary"
      ]
    },
    {
      "cell_type": "markdown",
      "metadata": {
        "id": "tkcHpyLv9uFV"
      },
      "source": [
        "| Model | Accuracy | Precision | Recall | F1 score | ROC AUC |\n",
        "| :----:| :------: | :-------: | :-----:| :-------:| :-----: |\n",
        "|  Baseline   |  0.82   |   0.82   |  0.82  |   0.82   |   0.87  |\n",
        "|  Strat 1   |   0.84  |   0.84   |  0.84  |   0.83   |   0.91  |\n",
        "|  Strat 2 |   0.86 |   0.85  |  0.86  |  0.85    |   0.86  |\n",
        "|  Strat 3 |  0.69    |  0.86  | 0.69  |  0.71  |  0.88 |\n",
        "|  Strat 4 |  0.50    |  0.50  | 0.50  |  0.50  |  0.58 |"
      ]
    },
    {
      "cell_type": "markdown",
      "metadata": {
        "id": "S-FZMuOZ6fNk"
      },
      "source": [
        "#### Exercise for the Reader: Training with stratified populations\n",
        "As a followup exercise for the reader, a similar analysis can be done with models that are trained on the stratified populations (and evaluated on subpopulations of other features)."
      ]
    },
    {
      "cell_type": "markdown",
      "metadata": {
        "id": "FOd6ajvV88on"
      },
      "source": [
        "# Conclusion\n",
        "\n",
        "In this notebook we see that using trained models to evaluate on certain subpopulaions can be both advantageous and disadvantageous. It demonstrates the importance of understanding these subpopulations and how the model might be affected, as well as evaluating these test cases before launching the model into the real world setting. "
      ]
    },
    {
      "cell_type": "code",
      "metadata": {
        "id": "iuGJsaufe9Ed"
      },
      "source": [
        ""
      ],
      "execution_count": null,
      "outputs": []
    }
  ]
}